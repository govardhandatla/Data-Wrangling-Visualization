{
 "cells": [
  {
   "cell_type": "code",
   "execution_count": 96,
   "metadata": {
    "collapsed": true,
    "nbpresent": {
     "id": "75dd6be8-395a-409f-a9e3-1b8266b9c0c7"
    }
   },
   "outputs": [],
   "source": [
    "# import \n",
    "import pandas as pd\n",
    "import numpy as np\n",
    "from numpy import median\n",
    "import requests\n",
    "import tweepy\n",
    "import os\n",
    "import json\n",
    "import sys\n",
    "import seaborn as sns\n",
    "import matplotlib.pyplot as plt\n",
    "import matplotlib.dates as mdates\n",
    "%matplotlib inline\n",
    "from sklearn.feature_extraction.stop_words import ENGLISH_STOP_WORDS\n",
    "from datetime import datetime\n",
    "import config\n",
    "import re"
   ]
  },
  {
   "cell_type": "markdown",
   "metadata": {
    "nbpresent": {
     "id": "5bb8ae46-798d-44bb-af61-319729d960e5"
    }
   },
   "source": [
    "# Summary \n",
    "\n",
    "<a href='#gathering_data'>1. Gathering Data</a> \n",
    "\n",
    "<a href='#assessing_data'>2. Assessing Data </a>\n",
    "\n",
    "<a href='#cleaning_data'>3. Cleaning Data </a> \n",
    "\n",
    "<a href='#investigating_data'>4. Investigating Data</a> "
   ]
  },
  {
   "cell_type": "markdown",
   "metadata": {
    "nbpresent": {
     "id": "0d05c065-769b-49cb-91f5-464ab4923b96"
    }
   },
   "source": [
    "# 1. Gathering Data\n",
    "<a id='gathering_data'></a>"
   ]
  },
  {
   "cell_type": "code",
   "execution_count": 97,
   "metadata": {
    "nbpresent": {
     "id": "4830cdf7-8354-4ecc-b6c9-b3752cdab060"
    }
   },
   "outputs": [
    {
     "data": {
      "text/html": [
       "<div>\n",
       "<style>\n",
       "    .dataframe thead tr:only-child th {\n",
       "        text-align: right;\n",
       "    }\n",
       "\n",
       "    .dataframe thead th {\n",
       "        text-align: left;\n",
       "    }\n",
       "\n",
       "    .dataframe tbody tr th {\n",
       "        vertical-align: top;\n",
       "    }\n",
       "</style>\n",
       "<table border=\"1\" class=\"dataframe\">\n",
       "  <thead>\n",
       "    <tr style=\"text-align: right;\">\n",
       "      <th></th>\n",
       "      <th>tweet_id</th>\n",
       "      <th>in_reply_to_status_id</th>\n",
       "      <th>in_reply_to_user_id</th>\n",
       "      <th>timestamp</th>\n",
       "      <th>source</th>\n",
       "      <th>text</th>\n",
       "      <th>retweeted_status_id</th>\n",
       "      <th>retweeted_status_user_id</th>\n",
       "      <th>retweeted_status_timestamp</th>\n",
       "      <th>expanded_urls</th>\n",
       "      <th>rating_numerator</th>\n",
       "      <th>rating_denominator</th>\n",
       "      <th>name</th>\n",
       "      <th>doggo</th>\n",
       "      <th>floofer</th>\n",
       "      <th>pupper</th>\n",
       "      <th>puppo</th>\n",
       "    </tr>\n",
       "  </thead>\n",
       "  <tbody>\n",
       "    <tr>\n",
       "      <th>0</th>\n",
       "      <td>892420643555336193</td>\n",
       "      <td>NaN</td>\n",
       "      <td>NaN</td>\n",
       "      <td>2017-08-01 16:23:56 +0000</td>\n",
       "      <td>&lt;a href=\"http://twitter.com/download/iphone\" r...</td>\n",
       "      <td>This is Phineas. He's a mystical boy. Only eve...</td>\n",
       "      <td>NaN</td>\n",
       "      <td>NaN</td>\n",
       "      <td>NaN</td>\n",
       "      <td>https://twitter.com/dog_rates/status/892420643...</td>\n",
       "      <td>13</td>\n",
       "      <td>10</td>\n",
       "      <td>Phineas</td>\n",
       "      <td>None</td>\n",
       "      <td>None</td>\n",
       "      <td>None</td>\n",
       "      <td>None</td>\n",
       "    </tr>\n",
       "    <tr>\n",
       "      <th>1</th>\n",
       "      <td>892177421306343426</td>\n",
       "      <td>NaN</td>\n",
       "      <td>NaN</td>\n",
       "      <td>2017-08-01 00:17:27 +0000</td>\n",
       "      <td>&lt;a href=\"http://twitter.com/download/iphone\" r...</td>\n",
       "      <td>This is Tilly. She's just checking pup on you....</td>\n",
       "      <td>NaN</td>\n",
       "      <td>NaN</td>\n",
       "      <td>NaN</td>\n",
       "      <td>https://twitter.com/dog_rates/status/892177421...</td>\n",
       "      <td>13</td>\n",
       "      <td>10</td>\n",
       "      <td>Tilly</td>\n",
       "      <td>None</td>\n",
       "      <td>None</td>\n",
       "      <td>None</td>\n",
       "      <td>None</td>\n",
       "    </tr>\n",
       "    <tr>\n",
       "      <th>2</th>\n",
       "      <td>891815181378084864</td>\n",
       "      <td>NaN</td>\n",
       "      <td>NaN</td>\n",
       "      <td>2017-07-31 00:18:03 +0000</td>\n",
       "      <td>&lt;a href=\"http://twitter.com/download/iphone\" r...</td>\n",
       "      <td>This is Archie. He is a rare Norwegian Pouncin...</td>\n",
       "      <td>NaN</td>\n",
       "      <td>NaN</td>\n",
       "      <td>NaN</td>\n",
       "      <td>https://twitter.com/dog_rates/status/891815181...</td>\n",
       "      <td>12</td>\n",
       "      <td>10</td>\n",
       "      <td>Archie</td>\n",
       "      <td>None</td>\n",
       "      <td>None</td>\n",
       "      <td>None</td>\n",
       "      <td>None</td>\n",
       "    </tr>\n",
       "    <tr>\n",
       "      <th>3</th>\n",
       "      <td>891689557279858688</td>\n",
       "      <td>NaN</td>\n",
       "      <td>NaN</td>\n",
       "      <td>2017-07-30 15:58:51 +0000</td>\n",
       "      <td>&lt;a href=\"http://twitter.com/download/iphone\" r...</td>\n",
       "      <td>This is Darla. She commenced a snooze mid meal...</td>\n",
       "      <td>NaN</td>\n",
       "      <td>NaN</td>\n",
       "      <td>NaN</td>\n",
       "      <td>https://twitter.com/dog_rates/status/891689557...</td>\n",
       "      <td>13</td>\n",
       "      <td>10</td>\n",
       "      <td>Darla</td>\n",
       "      <td>None</td>\n",
       "      <td>None</td>\n",
       "      <td>None</td>\n",
       "      <td>None</td>\n",
       "    </tr>\n",
       "    <tr>\n",
       "      <th>4</th>\n",
       "      <td>891327558926688256</td>\n",
       "      <td>NaN</td>\n",
       "      <td>NaN</td>\n",
       "      <td>2017-07-29 16:00:24 +0000</td>\n",
       "      <td>&lt;a href=\"http://twitter.com/download/iphone\" r...</td>\n",
       "      <td>This is Franklin. He would like you to stop ca...</td>\n",
       "      <td>NaN</td>\n",
       "      <td>NaN</td>\n",
       "      <td>NaN</td>\n",
       "      <td>https://twitter.com/dog_rates/status/891327558...</td>\n",
       "      <td>12</td>\n",
       "      <td>10</td>\n",
       "      <td>Franklin</td>\n",
       "      <td>None</td>\n",
       "      <td>None</td>\n",
       "      <td>None</td>\n",
       "      <td>None</td>\n",
       "    </tr>\n",
       "  </tbody>\n",
       "</table>\n",
       "</div>"
      ],
      "text/plain": [
       "             tweet_id  in_reply_to_status_id  in_reply_to_user_id  \\\n",
       "0  892420643555336193                    NaN                  NaN   \n",
       "1  892177421306343426                    NaN                  NaN   \n",
       "2  891815181378084864                    NaN                  NaN   \n",
       "3  891689557279858688                    NaN                  NaN   \n",
       "4  891327558926688256                    NaN                  NaN   \n",
       "\n",
       "                   timestamp  \\\n",
       "0  2017-08-01 16:23:56 +0000   \n",
       "1  2017-08-01 00:17:27 +0000   \n",
       "2  2017-07-31 00:18:03 +0000   \n",
       "3  2017-07-30 15:58:51 +0000   \n",
       "4  2017-07-29 16:00:24 +0000   \n",
       "\n",
       "                                              source  \\\n",
       "0  <a href=\"http://twitter.com/download/iphone\" r...   \n",
       "1  <a href=\"http://twitter.com/download/iphone\" r...   \n",
       "2  <a href=\"http://twitter.com/download/iphone\" r...   \n",
       "3  <a href=\"http://twitter.com/download/iphone\" r...   \n",
       "4  <a href=\"http://twitter.com/download/iphone\" r...   \n",
       "\n",
       "                                                text  retweeted_status_id  \\\n",
       "0  This is Phineas. He's a mystical boy. Only eve...                  NaN   \n",
       "1  This is Tilly. She's just checking pup on you....                  NaN   \n",
       "2  This is Archie. He is a rare Norwegian Pouncin...                  NaN   \n",
       "3  This is Darla. She commenced a snooze mid meal...                  NaN   \n",
       "4  This is Franklin. He would like you to stop ca...                  NaN   \n",
       "\n",
       "   retweeted_status_user_id retweeted_status_timestamp  \\\n",
       "0                       NaN                        NaN   \n",
       "1                       NaN                        NaN   \n",
       "2                       NaN                        NaN   \n",
       "3                       NaN                        NaN   \n",
       "4                       NaN                        NaN   \n",
       "\n",
       "                                       expanded_urls  rating_numerator  \\\n",
       "0  https://twitter.com/dog_rates/status/892420643...                13   \n",
       "1  https://twitter.com/dog_rates/status/892177421...                13   \n",
       "2  https://twitter.com/dog_rates/status/891815181...                12   \n",
       "3  https://twitter.com/dog_rates/status/891689557...                13   \n",
       "4  https://twitter.com/dog_rates/status/891327558...                12   \n",
       "\n",
       "   rating_denominator      name doggo floofer pupper puppo  \n",
       "0                  10   Phineas  None    None   None  None  \n",
       "1                  10     Tilly  None    None   None  None  \n",
       "2                  10    Archie  None    None   None  None  \n",
       "3                  10     Darla  None    None   None  None  \n",
       "4                  10  Franklin  None    None   None  None  "
      ]
     },
     "execution_count": 97,
     "metadata": {},
     "output_type": "execute_result"
    }
   ],
   "source": [
    "# gathering twitter archive\n",
    "archive = pd.read_csv('data/twitter-archive-enhanced.csv')\n",
    "archive.head()"
   ]
  },
  {
   "cell_type": "code",
   "execution_count": 98,
   "metadata": {
    "nbpresent": {
     "id": "c3ff91ee-895b-4783-90e5-99848ee5b6e6"
    }
   },
   "outputs": [
    {
     "data": {
      "text/html": [
       "<div>\n",
       "<style>\n",
       "    .dataframe thead tr:only-child th {\n",
       "        text-align: right;\n",
       "    }\n",
       "\n",
       "    .dataframe thead th {\n",
       "        text-align: left;\n",
       "    }\n",
       "\n",
       "    .dataframe tbody tr th {\n",
       "        vertical-align: top;\n",
       "    }\n",
       "</style>\n",
       "<table border=\"1\" class=\"dataframe\">\n",
       "  <thead>\n",
       "    <tr style=\"text-align: right;\">\n",
       "      <th></th>\n",
       "      <th>tweet_id</th>\n",
       "      <th>jpg_url</th>\n",
       "      <th>img_num</th>\n",
       "      <th>p1</th>\n",
       "      <th>p1_conf</th>\n",
       "      <th>p1_dog</th>\n",
       "      <th>p2</th>\n",
       "      <th>p2_conf</th>\n",
       "      <th>p2_dog</th>\n",
       "      <th>p3</th>\n",
       "      <th>p3_conf</th>\n",
       "      <th>p3_dog</th>\n",
       "    </tr>\n",
       "  </thead>\n",
       "  <tbody>\n",
       "    <tr>\n",
       "      <th>0</th>\n",
       "      <td>666020888022790149</td>\n",
       "      <td>https://pbs.twimg.com/media/CT4udn0WwAA0aMy.jpg</td>\n",
       "      <td>1</td>\n",
       "      <td>Welsh_springer_spaniel</td>\n",
       "      <td>0.465074</td>\n",
       "      <td>True</td>\n",
       "      <td>collie</td>\n",
       "      <td>0.156665</td>\n",
       "      <td>True</td>\n",
       "      <td>Shetland_sheepdog</td>\n",
       "      <td>0.061428</td>\n",
       "      <td>True</td>\n",
       "    </tr>\n",
       "    <tr>\n",
       "      <th>1</th>\n",
       "      <td>666029285002620928</td>\n",
       "      <td>https://pbs.twimg.com/media/CT42GRgUYAA5iDo.jpg</td>\n",
       "      <td>1</td>\n",
       "      <td>redbone</td>\n",
       "      <td>0.506826</td>\n",
       "      <td>True</td>\n",
       "      <td>miniature_pinscher</td>\n",
       "      <td>0.074192</td>\n",
       "      <td>True</td>\n",
       "      <td>Rhodesian_ridgeback</td>\n",
       "      <td>0.072010</td>\n",
       "      <td>True</td>\n",
       "    </tr>\n",
       "    <tr>\n",
       "      <th>2</th>\n",
       "      <td>666033412701032449</td>\n",
       "      <td>https://pbs.twimg.com/media/CT4521TWwAEvMyu.jpg</td>\n",
       "      <td>1</td>\n",
       "      <td>German_shepherd</td>\n",
       "      <td>0.596461</td>\n",
       "      <td>True</td>\n",
       "      <td>malinois</td>\n",
       "      <td>0.138584</td>\n",
       "      <td>True</td>\n",
       "      <td>bloodhound</td>\n",
       "      <td>0.116197</td>\n",
       "      <td>True</td>\n",
       "    </tr>\n",
       "    <tr>\n",
       "      <th>3</th>\n",
       "      <td>666044226329800704</td>\n",
       "      <td>https://pbs.twimg.com/media/CT5Dr8HUEAA-lEu.jpg</td>\n",
       "      <td>1</td>\n",
       "      <td>Rhodesian_ridgeback</td>\n",
       "      <td>0.408143</td>\n",
       "      <td>True</td>\n",
       "      <td>redbone</td>\n",
       "      <td>0.360687</td>\n",
       "      <td>True</td>\n",
       "      <td>miniature_pinscher</td>\n",
       "      <td>0.222752</td>\n",
       "      <td>True</td>\n",
       "    </tr>\n",
       "    <tr>\n",
       "      <th>4</th>\n",
       "      <td>666049248165822465</td>\n",
       "      <td>https://pbs.twimg.com/media/CT5IQmsXIAAKY4A.jpg</td>\n",
       "      <td>1</td>\n",
       "      <td>miniature_pinscher</td>\n",
       "      <td>0.560311</td>\n",
       "      <td>True</td>\n",
       "      <td>Rottweiler</td>\n",
       "      <td>0.243682</td>\n",
       "      <td>True</td>\n",
       "      <td>Doberman</td>\n",
       "      <td>0.154629</td>\n",
       "      <td>True</td>\n",
       "    </tr>\n",
       "  </tbody>\n",
       "</table>\n",
       "</div>"
      ],
      "text/plain": [
       "             tweet_id                                          jpg_url  \\\n",
       "0  666020888022790149  https://pbs.twimg.com/media/CT4udn0WwAA0aMy.jpg   \n",
       "1  666029285002620928  https://pbs.twimg.com/media/CT42GRgUYAA5iDo.jpg   \n",
       "2  666033412701032449  https://pbs.twimg.com/media/CT4521TWwAEvMyu.jpg   \n",
       "3  666044226329800704  https://pbs.twimg.com/media/CT5Dr8HUEAA-lEu.jpg   \n",
       "4  666049248165822465  https://pbs.twimg.com/media/CT5IQmsXIAAKY4A.jpg   \n",
       "\n",
       "   img_num                      p1   p1_conf  p1_dog                  p2  \\\n",
       "0        1  Welsh_springer_spaniel  0.465074    True              collie   \n",
       "1        1                 redbone  0.506826    True  miniature_pinscher   \n",
       "2        1         German_shepherd  0.596461    True            malinois   \n",
       "3        1     Rhodesian_ridgeback  0.408143    True             redbone   \n",
       "4        1      miniature_pinscher  0.560311    True          Rottweiler   \n",
       "\n",
       "    p2_conf  p2_dog                   p3   p3_conf  p3_dog  \n",
       "0  0.156665    True    Shetland_sheepdog  0.061428    True  \n",
       "1  0.074192    True  Rhodesian_ridgeback  0.072010    True  \n",
       "2  0.138584    True           bloodhound  0.116197    True  \n",
       "3  0.360687    True   miniature_pinscher  0.222752    True  \n",
       "4  0.243682    True             Doberman  0.154629    True  "
      ]
     },
     "execution_count": 98,
     "metadata": {},
     "output_type": "execute_result"
    }
   ],
   "source": [
    "# gathering image predictions from Udacity's server\n",
    "r = requests.get('https://d17h27t6h515a5.cloudfront.net/topher/2017/August/599fd2ad_image-predictions/image-predictions.tsv')\n",
    "\n",
    "# save file \n",
    "with open('data/image-predictions.tsv', 'wb') as file:\n",
    "    file.write(r.content)\n",
    "    \n",
    "# create dataframe\n",
    "image = pd.read_csv('data/image-predictions.tsv', sep='\\t')\n",
    "image.head()"
   ]
  },
  {
   "cell_type": "code",
   "execution_count": 99,
   "metadata": {
    "collapsed": true,
    "nbpresent": {
     "id": "16bb0578-8cfc-4f7c-8404-512b280338d3"
    }
   },
   "outputs": [],
   "source": [
    "# configure twitter API\n",
    "#auth = tweepy.OAuthHandler(config.consumer_key, config.consumer_secret)\n",
    "#auth.set_access_token(config.access_token, config.access_secret)\n",
    "#api = tweepy.API(auth, wait_on_rate_limit=True, wait_on_rate_limit_notify=True)"
   ]
  },
  {
   "cell_type": "code",
   "execution_count": 100,
   "metadata": {
    "nbpresent": {
     "id": "7c16c5d5-835c-4193-9d93-849db3f7eb28"
    }
   },
   "outputs": [],
   "source": [
    "# complete information using twitter API\n",
    "#with open('data/tweet_json.txt','w') as outfile:\n",
    "    # call infos\n",
    "    #for i in archive['tweet_id']:\n",
    "        # handling exception\n",
    "        #try:\n",
    "            #tweet = api.get_status(i,tweet_mode='extended')\n",
    "            #json.dump(tweet._json, outfile)\n",
    "            #outfile.write(\"\\n\")\n",
    "        #except:\n",
    "            #e = os.sys.exc_info()[0]\n",
    "            \n",
    "# inspiration from try/except : https://wiki.python.org/moin/HandlingExceptions"
   ]
  },
  {
   "cell_type": "code",
   "execution_count": 101,
   "metadata": {
    "nbpresent": {
     "id": "84226fd9-7a53-438f-a1b8-0ad5324cc160"
    }
   },
   "outputs": [
    {
     "data": {
      "text/html": [
       "<div>\n",
       "<style>\n",
       "    .dataframe thead tr:only-child th {\n",
       "        text-align: right;\n",
       "    }\n",
       "\n",
       "    .dataframe thead th {\n",
       "        text-align: left;\n",
       "    }\n",
       "\n",
       "    .dataframe tbody tr th {\n",
       "        vertical-align: top;\n",
       "    }\n",
       "</style>\n",
       "<table border=\"1\" class=\"dataframe\">\n",
       "  <thead>\n",
       "    <tr style=\"text-align: right;\">\n",
       "      <th></th>\n",
       "      <th>favorite_count</th>\n",
       "      <th>id</th>\n",
       "      <th>retweet_count</th>\n",
       "    </tr>\n",
       "  </thead>\n",
       "  <tbody>\n",
       "    <tr>\n",
       "      <th>0</th>\n",
       "      <td>39007</td>\n",
       "      <td>892420643555336193</td>\n",
       "      <td>8658</td>\n",
       "    </tr>\n",
       "    <tr>\n",
       "      <th>1</th>\n",
       "      <td>33395</td>\n",
       "      <td>892177421306343426</td>\n",
       "      <td>6358</td>\n",
       "    </tr>\n",
       "    <tr>\n",
       "      <th>2</th>\n",
       "      <td>25181</td>\n",
       "      <td>891815181378084864</td>\n",
       "      <td>4223</td>\n",
       "    </tr>\n",
       "    <tr>\n",
       "      <th>3</th>\n",
       "      <td>42360</td>\n",
       "      <td>891689557279858688</td>\n",
       "      <td>8769</td>\n",
       "    </tr>\n",
       "    <tr>\n",
       "      <th>4</th>\n",
       "      <td>40520</td>\n",
       "      <td>891327558926688256</td>\n",
       "      <td>9536</td>\n",
       "    </tr>\n",
       "  </tbody>\n",
       "</table>\n",
       "</div>"
      ],
      "text/plain": [
       "   favorite_count                  id  retweet_count\n",
       "0           39007  892420643555336193           8658\n",
       "1           33395  892177421306343426           6358\n",
       "2           25181  891815181378084864           4223\n",
       "3           42360  891689557279858688           8769\n",
       "4           40520  891327558926688256           9536"
      ]
     },
     "execution_count": 101,
     "metadata": {},
     "output_type": "execute_result"
    }
   ],
   "source": [
    "# elements to save \n",
    "elements = ['id', 'favorite_count', 'retweet_count']\n",
    "\n",
    "# create dict\n",
    "data = []\n",
    "with open('data/tweet_json.txt', 'r') as r: \n",
    "    json_tweet = r.readline()\n",
    "    while json_tweet:\n",
    "        dictionnary = json.loads(json_tweet)\n",
    "        data_row = dict((i, dictionnary[i]) for i in elements)\n",
    "        data.append(data_row)\n",
    "        json_tweet = r.readline()\n",
    "        \n",
    "            \n",
    "# create DataFrame    \n",
    "info = pd.DataFrame.from_dict(data)\n",
    "\n",
    "# confirm\n",
    "info.head()"
   ]
  },
  {
   "cell_type": "markdown",
   "metadata": {
    "nbpresent": {
     "id": "8a3792ee-6526-4fe9-a785-3eb36c43f260"
    }
   },
   "source": [
    "# 2. Assessing Data\n",
    "<a id='assessing_data'></a>"
   ]
  },
  {
   "cell_type": "markdown",
   "metadata": {
    "nbpresent": {
     "id": "d0fe7785-7416-410b-9fa2-156792957819"
    }
   },
   "source": [
    "### Sub-sections\n",
    "\n",
    "<a href='#assessing_archive'>2.1 Assessing archive</a> \n",
    "\n",
    "<a href='#assessing_image'>2.2 Assessing image</a>\n",
    "\n",
    "<a href='#assessing_info'>2.3 Assessing info</a> \n",
    "\n",
    "<a href='#assessing_synthesis'>2.4 Assessing conclusion</a> "
   ]
  },
  {
   "cell_type": "markdown",
   "metadata": {
    "nbpresent": {
     "id": "e49e3d40-0280-40f9-ae0b-805986afcb46"
    }
   },
   "source": [
    "### 2.1 Assessing archive\n",
    "<a id='assessing_archive'></a>"
   ]
  },
  {
   "cell_type": "code",
   "execution_count": 102,
   "metadata": {
    "nbpresent": {
     "id": "c8ce8aa4-d2d9-4207-868b-cf9ce0c9e78a"
    }
   },
   "outputs": [
    {
     "data": {
      "text/html": [
       "<div>\n",
       "<style>\n",
       "    .dataframe thead tr:only-child th {\n",
       "        text-align: right;\n",
       "    }\n",
       "\n",
       "    .dataframe thead th {\n",
       "        text-align: left;\n",
       "    }\n",
       "\n",
       "    .dataframe tbody tr th {\n",
       "        vertical-align: top;\n",
       "    }\n",
       "</style>\n",
       "<table border=\"1\" class=\"dataframe\">\n",
       "  <thead>\n",
       "    <tr style=\"text-align: right;\">\n",
       "      <th></th>\n",
       "      <th>tweet_id</th>\n",
       "      <th>in_reply_to_status_id</th>\n",
       "      <th>in_reply_to_user_id</th>\n",
       "      <th>timestamp</th>\n",
       "      <th>source</th>\n",
       "      <th>text</th>\n",
       "      <th>retweeted_status_id</th>\n",
       "      <th>retweeted_status_user_id</th>\n",
       "      <th>retweeted_status_timestamp</th>\n",
       "      <th>expanded_urls</th>\n",
       "      <th>rating_numerator</th>\n",
       "      <th>rating_denominator</th>\n",
       "      <th>name</th>\n",
       "      <th>doggo</th>\n",
       "      <th>floofer</th>\n",
       "      <th>pupper</th>\n",
       "      <th>puppo</th>\n",
       "    </tr>\n",
       "  </thead>\n",
       "  <tbody>\n",
       "    <tr>\n",
       "      <th>0</th>\n",
       "      <td>892420643555336193</td>\n",
       "      <td>NaN</td>\n",
       "      <td>NaN</td>\n",
       "      <td>2017-08-01 16:23:56 +0000</td>\n",
       "      <td>&lt;a href=\"http://twitter.com/download/iphone\" r...</td>\n",
       "      <td>This is Phineas. He's a mystical boy. Only eve...</td>\n",
       "      <td>NaN</td>\n",
       "      <td>NaN</td>\n",
       "      <td>NaN</td>\n",
       "      <td>https://twitter.com/dog_rates/status/892420643...</td>\n",
       "      <td>13</td>\n",
       "      <td>10</td>\n",
       "      <td>Phineas</td>\n",
       "      <td>None</td>\n",
       "      <td>None</td>\n",
       "      <td>None</td>\n",
       "      <td>None</td>\n",
       "    </tr>\n",
       "    <tr>\n",
       "      <th>1</th>\n",
       "      <td>892177421306343426</td>\n",
       "      <td>NaN</td>\n",
       "      <td>NaN</td>\n",
       "      <td>2017-08-01 00:17:27 +0000</td>\n",
       "      <td>&lt;a href=\"http://twitter.com/download/iphone\" r...</td>\n",
       "      <td>This is Tilly. She's just checking pup on you....</td>\n",
       "      <td>NaN</td>\n",
       "      <td>NaN</td>\n",
       "      <td>NaN</td>\n",
       "      <td>https://twitter.com/dog_rates/status/892177421...</td>\n",
       "      <td>13</td>\n",
       "      <td>10</td>\n",
       "      <td>Tilly</td>\n",
       "      <td>None</td>\n",
       "      <td>None</td>\n",
       "      <td>None</td>\n",
       "      <td>None</td>\n",
       "    </tr>\n",
       "    <tr>\n",
       "      <th>2</th>\n",
       "      <td>891815181378084864</td>\n",
       "      <td>NaN</td>\n",
       "      <td>NaN</td>\n",
       "      <td>2017-07-31 00:18:03 +0000</td>\n",
       "      <td>&lt;a href=\"http://twitter.com/download/iphone\" r...</td>\n",
       "      <td>This is Archie. He is a rare Norwegian Pouncin...</td>\n",
       "      <td>NaN</td>\n",
       "      <td>NaN</td>\n",
       "      <td>NaN</td>\n",
       "      <td>https://twitter.com/dog_rates/status/891815181...</td>\n",
       "      <td>12</td>\n",
       "      <td>10</td>\n",
       "      <td>Archie</td>\n",
       "      <td>None</td>\n",
       "      <td>None</td>\n",
       "      <td>None</td>\n",
       "      <td>None</td>\n",
       "    </tr>\n",
       "    <tr>\n",
       "      <th>3</th>\n",
       "      <td>891689557279858688</td>\n",
       "      <td>NaN</td>\n",
       "      <td>NaN</td>\n",
       "      <td>2017-07-30 15:58:51 +0000</td>\n",
       "      <td>&lt;a href=\"http://twitter.com/download/iphone\" r...</td>\n",
       "      <td>This is Darla. She commenced a snooze mid meal...</td>\n",
       "      <td>NaN</td>\n",
       "      <td>NaN</td>\n",
       "      <td>NaN</td>\n",
       "      <td>https://twitter.com/dog_rates/status/891689557...</td>\n",
       "      <td>13</td>\n",
       "      <td>10</td>\n",
       "      <td>Darla</td>\n",
       "      <td>None</td>\n",
       "      <td>None</td>\n",
       "      <td>None</td>\n",
       "      <td>None</td>\n",
       "    </tr>\n",
       "    <tr>\n",
       "      <th>4</th>\n",
       "      <td>891327558926688256</td>\n",
       "      <td>NaN</td>\n",
       "      <td>NaN</td>\n",
       "      <td>2017-07-29 16:00:24 +0000</td>\n",
       "      <td>&lt;a href=\"http://twitter.com/download/iphone\" r...</td>\n",
       "      <td>This is Franklin. He would like you to stop ca...</td>\n",
       "      <td>NaN</td>\n",
       "      <td>NaN</td>\n",
       "      <td>NaN</td>\n",
       "      <td>https://twitter.com/dog_rates/status/891327558...</td>\n",
       "      <td>12</td>\n",
       "      <td>10</td>\n",
       "      <td>Franklin</td>\n",
       "      <td>None</td>\n",
       "      <td>None</td>\n",
       "      <td>None</td>\n",
       "      <td>None</td>\n",
       "    </tr>\n",
       "  </tbody>\n",
       "</table>\n",
       "</div>"
      ],
      "text/plain": [
       "             tweet_id  in_reply_to_status_id  in_reply_to_user_id  \\\n",
       "0  892420643555336193                    NaN                  NaN   \n",
       "1  892177421306343426                    NaN                  NaN   \n",
       "2  891815181378084864                    NaN                  NaN   \n",
       "3  891689557279858688                    NaN                  NaN   \n",
       "4  891327558926688256                    NaN                  NaN   \n",
       "\n",
       "                   timestamp  \\\n",
       "0  2017-08-01 16:23:56 +0000   \n",
       "1  2017-08-01 00:17:27 +0000   \n",
       "2  2017-07-31 00:18:03 +0000   \n",
       "3  2017-07-30 15:58:51 +0000   \n",
       "4  2017-07-29 16:00:24 +0000   \n",
       "\n",
       "                                              source  \\\n",
       "0  <a href=\"http://twitter.com/download/iphone\" r...   \n",
       "1  <a href=\"http://twitter.com/download/iphone\" r...   \n",
       "2  <a href=\"http://twitter.com/download/iphone\" r...   \n",
       "3  <a href=\"http://twitter.com/download/iphone\" r...   \n",
       "4  <a href=\"http://twitter.com/download/iphone\" r...   \n",
       "\n",
       "                                                text  retweeted_status_id  \\\n",
       "0  This is Phineas. He's a mystical boy. Only eve...                  NaN   \n",
       "1  This is Tilly. She's just checking pup on you....                  NaN   \n",
       "2  This is Archie. He is a rare Norwegian Pouncin...                  NaN   \n",
       "3  This is Darla. She commenced a snooze mid meal...                  NaN   \n",
       "4  This is Franklin. He would like you to stop ca...                  NaN   \n",
       "\n",
       "   retweeted_status_user_id retweeted_status_timestamp  \\\n",
       "0                       NaN                        NaN   \n",
       "1                       NaN                        NaN   \n",
       "2                       NaN                        NaN   \n",
       "3                       NaN                        NaN   \n",
       "4                       NaN                        NaN   \n",
       "\n",
       "                                       expanded_urls  rating_numerator  \\\n",
       "0  https://twitter.com/dog_rates/status/892420643...                13   \n",
       "1  https://twitter.com/dog_rates/status/892177421...                13   \n",
       "2  https://twitter.com/dog_rates/status/891815181...                12   \n",
       "3  https://twitter.com/dog_rates/status/891689557...                13   \n",
       "4  https://twitter.com/dog_rates/status/891327558...                12   \n",
       "\n",
       "   rating_denominator      name doggo floofer pupper puppo  \n",
       "0                  10   Phineas  None    None   None  None  \n",
       "1                  10     Tilly  None    None   None  None  \n",
       "2                  10    Archie  None    None   None  None  \n",
       "3                  10     Darla  None    None   None  None  \n",
       "4                  10  Franklin  None    None   None  None  "
      ]
     },
     "execution_count": 102,
     "metadata": {},
     "output_type": "execute_result"
    }
   ],
   "source": [
    "archive.head()"
   ]
  },
  {
   "cell_type": "markdown",
   "metadata": {
    "nbpresent": {
     "id": "87c04645-b780-4928-bf9e-f087d73920c2"
    }
   },
   "source": [
    "- rows have to be suppress if the value is non-null to conserve only original tweets for the following coulumns : in_reply_to_status_id, in_reply_to_user_id, retweeted_status_id, retweeted_status_user_id, retweeted_statud_timestamp\n",
    "- source has html residues\n",
    "- doggo, floofer, pupper and puppo represents one variable and due to tidyness rule have to be one column"
   ]
  },
  {
   "cell_type": "code",
   "execution_count": 103,
   "metadata": {
    "nbpresent": {
     "id": "b5796790-e0dc-43e6-9954-7fcb538cd31d"
    }
   },
   "outputs": [
    {
     "name": "stdout",
     "output_type": "stream",
     "text": [
      "<class 'pandas.core.frame.DataFrame'>\n",
      "RangeIndex: 2356 entries, 0 to 2355\n",
      "Data columns (total 17 columns):\n",
      "tweet_id                      2356 non-null int64\n",
      "in_reply_to_status_id         78 non-null float64\n",
      "in_reply_to_user_id           78 non-null float64\n",
      "timestamp                     2356 non-null object\n",
      "source                        2356 non-null object\n",
      "text                          2356 non-null object\n",
      "retweeted_status_id           181 non-null float64\n",
      "retweeted_status_user_id      181 non-null float64\n",
      "retweeted_status_timestamp    181 non-null object\n",
      "expanded_urls                 2297 non-null object\n",
      "rating_numerator              2356 non-null int64\n",
      "rating_denominator            2356 non-null int64\n",
      "name                          2356 non-null object\n",
      "doggo                         2356 non-null object\n",
      "floofer                       2356 non-null object\n",
      "pupper                        2356 non-null object\n",
      "puppo                         2356 non-null object\n",
      "dtypes: float64(4), int64(3), object(10)\n",
      "memory usage: 313.0+ KB\n"
     ]
    }
   ],
   "source": [
    "# get info\n",
    "archive.info()"
   ]
  },
  {
   "cell_type": "markdown",
   "metadata": {
    "nbpresent": {
     "id": "d1f65f57-2eaf-4ce8-822c-d8c670ed4639"
    }
   },
   "source": [
    "- timestamp has to be convert into datetime to be exploitable\n",
    "- 'None' object in doggo, floofer, pupper and puppo have to be convert into NaN\n",
    "- missing expanded urls\n",
    "- tweet_id has to be string  "
   ]
  },
  {
   "cell_type": "code",
   "execution_count": 104,
   "metadata": {
    "nbpresent": {
     "id": "b50da196-b860-447a-8ac4-34362e4b44ad"
    }
   },
   "outputs": [
    {
     "data": {
      "text/plain": [
       "0"
      ]
     },
     "execution_count": 104,
     "metadata": {},
     "output_type": "execute_result"
    }
   ],
   "source": [
    "# check duplicate id\n",
    "archive['tweet_id'].duplicated().sum()"
   ]
  },
  {
   "cell_type": "code",
   "execution_count": 105,
   "metadata": {
    "collapsed": true,
    "nbpresent": {
     "id": "dbccb7d4-f03f-4de4-aafe-c8602d8d9685"
    }
   },
   "outputs": [],
   "source": [
    "# stop words function\n",
    "\n",
    "def stop_words(data_frame_column,name):\n",
    "    '''\n",
    "    take a data frame column and a column name\n",
    "    and print the number of stop words in the column\n",
    "    '''\n",
    "    count=0\n",
    "    for word in data_frame_column:\n",
    "        if word in ENGLISH_STOP_WORDS:\n",
    "            count+=1\n",
    "    print(name,'column have',count,'stop words')\n",
    "                    \n",
    "# source : https://martinapugliese.github.io/english-stopwords/"
   ]
  },
  {
   "cell_type": "code",
   "execution_count": 106,
   "metadata": {
    "nbpresent": {
     "id": "44f0cac0-f38a-4afc-87b7-9f3ef4a56ba6"
    }
   },
   "outputs": [
    {
     "name": "stdout",
     "output_type": "stream",
     "text": [
      "tweet_id column have 0 stop words\n",
      "timestamp column have 0 stop words\n",
      "source column have 0 stop words\n",
      "expanded_urls column have 0 stop words\n",
      "rating_numerator column have 0 stop words\n",
      "rating_denominator column have 0 stop words\n",
      "name column have 87 stop words\n",
      "doggo column have 0 stop words\n",
      "floofer column have 0 stop words\n",
      "pupper column have 0 stop words\n",
      "puppo column have 0 stop words\n"
     ]
    }
   ],
   "source": [
    "# check stop word for each columns\n",
    "\n",
    "stop_words(archive['tweet_id'],'tweet_id')\n",
    "stop_words(archive['timestamp'],'timestamp')\n",
    "stop_words(archive['source'],'source')\n",
    "stop_words(archive['expanded_urls'],'expanded_urls')\n",
    "stop_words(archive['rating_numerator'],'rating_numerator')\n",
    "stop_words(archive['rating_denominator'],'rating_denominator')\n",
    "stop_words(archive['name'],'name')\n",
    "stop_words(archive['doggo'],'doggo')\n",
    "stop_words(archive['floofer'],'floofer')\n",
    "stop_words(archive['pupper'],'pupper')\n",
    "stop_words(archive['puppo'],'puppo')"
   ]
  },
  {
   "cell_type": "markdown",
   "metadata": {
    "nbpresent": {
     "id": "34017468-c8fb-4dcd-aebc-7e86638c2e85"
    }
   },
   "source": [
    "- name column have stop words"
   ]
  },
  {
   "cell_type": "code",
   "execution_count": 107,
   "metadata": {
    "collapsed": true,
    "nbpresent": {
     "id": "3a1e28fe-5ba4-4203-887f-413bf56b3e03"
    }
   },
   "outputs": [],
   "source": [
    "# 'None' string detection function\n",
    "\n",
    "def none_detection(data_frame_column,name):\n",
    "    '''\n",
    "    take a data frame column and a column name\n",
    "    and print the number of 'None' string in the column\n",
    "    '''\n",
    "    count=0\n",
    "    for word in data_frame_column:\n",
    "        if word == 'None':\n",
    "            count+=1\n",
    "    print(name,'column have',count,'None')"
   ]
  },
  {
   "cell_type": "code",
   "execution_count": 108,
   "metadata": {
    "nbpresent": {
     "id": "44019e46-7f56-46a6-94e9-a83552d6c4cb"
    }
   },
   "outputs": [
    {
     "name": "stdout",
     "output_type": "stream",
     "text": [
      "tweet_id column have 0 None\n",
      "timestamp column have 0 None\n",
      "source column have 0 None\n",
      "expanded_urls column have 0 None\n",
      "rating_numerator column have 0 None\n",
      "rating_denominator column have 0 None\n",
      "name column have 745 None\n",
      "doggo column have 2259 None\n",
      "floofer column have 2346 None\n",
      "pupper column have 2099 None\n",
      "puppo column have 2326 None\n"
     ]
    }
   ],
   "source": [
    "# check 'None' string for each columns\n",
    "\n",
    "none_detection(archive['tweet_id'],'tweet_id')\n",
    "none_detection(archive['timestamp'],'timestamp')\n",
    "none_detection(archive['source'],'source')\n",
    "none_detection(archive['expanded_urls'],'expanded_urls')\n",
    "none_detection(archive['rating_numerator'],'rating_numerator')\n",
    "none_detection(archive['rating_denominator'],'rating_denominator')\n",
    "none_detection(archive['name'],'name')\n",
    "none_detection(archive['doggo'],'doggo')\n",
    "none_detection(archive['floofer'],'floofer')\n",
    "none_detection(archive['pupper'],'pupper')\n",
    "none_detection(archive['puppo'],'puppo')"
   ]
  },
  {
   "cell_type": "markdown",
   "metadata": {
    "nbpresent": {
     "id": "a716e84b-f183-49d6-8023-39e0a2847722"
    }
   },
   "source": [
    "- name column have 745 None string\n",
    "- doggo, floofer, pupper and puppo have None string"
   ]
  },
  {
   "cell_type": "code",
   "execution_count": 109,
   "metadata": {
    "nbpresent": {
     "id": "10306e46-6680-41de-b6b7-6075b2174381"
    }
   },
   "outputs": [
    {
     "name": "stdout",
     "output_type": "stream",
     "text": [
      "exemple:  https://gofundme.com/ydvmve-surgery-for-jax,https://twitter.com/dog_rates/status/890971913173991426/photo/1\n",
      "Number of double links:  639\n"
     ]
    }
   ],
   "source": [
    "# while observing the data frame I see a double link in expanded urls\n",
    "\n",
    "# example of double urls\n",
    "print('exemple: ',archive.expanded_urls[6])\n",
    "\n",
    "# check double urls \n",
    "double_urls = archive.expanded_urls.str.contains(r',').sum()\n",
    "\n",
    "print('Number of double links: ',double_urls)"
   ]
  },
  {
   "cell_type": "markdown",
   "metadata": {
    "nbpresent": {
     "id": "47728cdd-3e1f-4869-a66d-40b925f3c815"
    }
   },
   "source": [
    "- 639 double links in expanded_urls"
   ]
  },
  {
   "cell_type": "code",
   "execution_count": 110,
   "metadata": {
    "nbpresent": {
     "id": "57a7f789-685b-4c7d-984d-81a20aa72296"
    }
   },
   "outputs": [
    {
     "data": {
      "text/plain": [
       "<matplotlib.axes._subplots.AxesSubplot at 0x1a0e5bdfd0>"
      ]
     },
     "execution_count": 110,
     "metadata": {},
     "output_type": "execute_result"
    },
    {
     "data": {
      "image/png": "[encoded data removed]",
      "text/plain": [
       "<matplotlib.figure.Figure at 0x1a0e35e8d0>"
      ]
     },
     "metadata": {},
     "output_type": "display_data"
    }
   ],
   "source": [
    "# check denominator with ploting \n",
    "plt.figure(figsize=(15,7))\n",
    "sns.countplot(archive.rating_denominator)"
   ]
  },
  {
   "cell_type": "code",
   "execution_count": 111,
   "metadata": {
    "nbpresent": {
     "id": "0e0e3dda-0cf8-4eb1-b9b2-cb16a580fc96"
    }
   },
   "outputs": [
    {
     "name": "stdout",
     "output_type": "stream",
     "text": [
      "We can count 23 not on 10\n"
     ]
    }
   ],
   "source": [
    "# count number of denominator != 10\n",
    "not_on_10 = 0\n",
    "for i in archive['rating_denominator']:\n",
    "    if i != 10 :\n",
    "        not_on_10 +=1\n",
    "        \n",
    "print('We can count {} not on 10'.format(not_on_10))"
   ]
  },
  {
   "cell_type": "markdown",
   "metadata": {
    "nbpresent": {
     "id": "87ff53a9-771d-4d72-bf59-a3768be3776a"
    }
   },
   "source": [
    "- 23 rating denominator not on 10"
   ]
  },
  {
   "cell_type": "code",
   "execution_count": 112,
   "metadata": {
    "nbpresent": {
     "id": "8e8493d6-2e09-41bf-a2c8-422c9e15b185"
    }
   },
   "outputs": [
    {
     "data": {
      "text/plain": [
       "<matplotlib.axes._subplots.AxesSubplot at 0x1a0e38ab00>"
      ]
     },
     "execution_count": 112,
     "metadata": {},
     "output_type": "execute_result"
    },
    {
     "data": {
      "image/png": "[encoded data removed]",
      "text/plain": [
       "<matplotlib.figure.Figure at 0x1a0e3b4ac8>"
      ]
     },
     "metadata": {},
     "output_type": "display_data"
    }
   ],
   "source": [
    "# check nominator value \n",
    "plt.figure(figsize=(15,7))\n",
    "sns.countplot(archive.rating_numerator)"
   ]
  },
  {
   "cell_type": "code",
   "execution_count": 113,
   "metadata": {
    "nbpresent": {
     "id": "ea45f75e-62c2-4c22-8756-b6a96777f052"
    }
   },
   "outputs": [
    {
     "name": "stdout",
     "output_type": "stream",
     "text": [
      "We can observe 440 numerator inferior to 10\n"
     ]
    }
   ],
   "source": [
    "# count number of numerator under 10 \n",
    "under_10 = 0\n",
    "for i in archive['rating_numerator']:\n",
    "    if i <= 9:\n",
    "        under_10 += 1\n",
    "print('We can observe {} numerator inferior to 10'.format(under_10))"
   ]
  },
  {
   "cell_type": "markdown",
   "metadata": {
    "nbpresent": {
     "id": "2b71df8d-6e73-4b56-8eb7-2d8d099c612d"
    }
   },
   "source": [
    "- 440 numerator inferior to 10"
   ]
  },
  {
   "cell_type": "code",
   "execution_count": 114,
   "metadata": {},
   "outputs": [
    {
     "name": "stdout",
     "output_type": "stream",
     "text": [
      "This is Logan, the Chow who lived. He solemnly swears he's up to lots of good. H*ckin magical af 9.75/10 https://t.co/yBO5wuqaPS \n",
      " numerator:  75\n"
     ]
    }
   ],
   "source": [
    "# sample with scrapping error on numerator\n",
    "print(archive.text[695],'\\n','numerator: ',archive.rating_numerator[695])"
   ]
  },
  {
   "cell_type": "code",
   "execution_count": 115,
   "metadata": {},
   "outputs": [
    {
     "name": "stdout",
     "output_type": "stream",
     "text": [
      "index:  45 \n",
      " text:  This is Bella. She hopes her smile made you smile. If not, she is also offering you her favorite monkey. 13.5/10 https://t.co/qjrljjt948 \n",
      "numerator:  5 \n",
      "\n",
      "index:  340 \n",
      " text:  RT @dog_rates: This is Logan, the Chow who lived. He solemnly swears he's up to lots of good. H*ckin magical af 9.75/10 https://t.co/yBO5wu… \n",
      "numerator:  75 \n",
      "\n",
      "index:  695 \n",
      " text:  This is Logan, the Chow who lived. He solemnly swears he's up to lots of good. H*ckin magical af 9.75/10 https://t.co/yBO5wuqaPS \n",
      "numerator:  75 \n",
      "\n",
      "index:  763 \n",
      " text:  This is Sophie. She's a Jubilant Bush Pupper. Super h*ckin rare. Appears at random just to smile at the locals. 11.27/10 would smile back https://t.co/QFaUiIHxHq \n",
      "numerator:  27 \n",
      "\n",
      "index:  1689 \n",
      " text:  I've been told there's a slight possibility he's checking his mirror. We'll bump to 9.5/10. Still a menace \n",
      "numerator:  5 \n",
      "\n",
      "index:  1712 \n",
      " text:  Here we have uncovered an entire battalion of holiday puppers. Average of 11.26/10 https://t.co/eNm2S6p9BD \n",
      "numerator:  26 \n",
      "\n"
     ]
    }
   ],
   "source": [
    "# print index, text and numerator when text numerator contains a decimal\n",
    "for row in test['text']:\n",
    "    pattern = '(\\d+\\.\\d+)\\/(\\d+)'\n",
    "    search = re.search(pattern,row)\n",
    "    if search != None:\n",
    "        index=test.loc[test['text']==row].index[0]\n",
    "        text = archive.text[index]\n",
    "        numerator = archive.rating_numerator[index]\n",
    "        print('index: ',index,'\\n',\n",
    "              'text: ',text,'\\n'\n",
    "              'numerator: ',numerator,'\\n',\n",
    "             )\n",
    "        \n",
    "\n",
    "# inspiration: https://stackoverflow.com/questions/38175235/detect-pattern-in-a-string-in-python?utm_medium=organic&utm_source=google_rich_qa&utm_campaign=google_rich_qa\n",
    "# library : https://docs.python.org/2/library/re.html"
   ]
  },
  {
   "cell_type": "markdown",
   "metadata": {},
   "source": [
    "- all numerators with decimal are false in rating_numerator column"
   ]
  },
  {
   "cell_type": "code",
   "execution_count": 116,
   "metadata": {
    "nbpresent": {
     "id": "08eb84ed-eff9-4e48-ae3b-0860b1670ab9"
    }
   },
   "outputs": [
    {
     "data": {
      "text/plain": [
       "0    1976\n",
       "1     366\n",
       "2      14\n",
       "Name: gender_number, dtype: int64"
      ]
     },
     "execution_count": 116,
     "metadata": {},
     "output_type": "execute_result"
    },
    {
     "data": {
      "image/png": "[encoded data removed]",
      "text/plain": [
       "<matplotlib.figure.Figure at 0x1a0f7fdd68>"
      ]
     },
     "metadata": {},
     "output_type": "display_data"
    }
   ],
   "source": [
    "# check contradiction in dog categories\n",
    "# you can only have a dog in one category \n",
    "# doggo\tfloofer\tpupper\tpuppo\n",
    "\n",
    "# transform category in 0 or 1\n",
    "# temporarily create a new category with sum if superior to 1 is false \n",
    "\n",
    "# create a copy \n",
    "archive_2 = archive.copy()\n",
    "\n",
    "# convert column to 0 and 1 \n",
    "archive_2['doggo'] = archive_2['doggo'].apply(lambda x: 0 if x=='None' else 1)\n",
    "archive_2['floofer'] = archive_2['floofer'].apply(lambda x: 0 if x=='None' else 1)\n",
    "archive_2['pupper'] = archive_2['pupper'].apply(lambda x: 0 if x=='None' else 1)\n",
    "archive_2['puppo'] = archive_2['puppo'].apply(lambda x: 0 if x=='None' else 1)\n",
    "\n",
    "#create a new column \n",
    "archive_2['gender_number']=archive_2.iloc[:,[13,14,15,16]].sum(axis=1)\n",
    "\n",
    "# mesure the number \n",
    "plt.figure(figsize=(15,7))\n",
    "sns.countplot(archive_2.gender_number)\n",
    "\n",
    "# count \n",
    "archive_2['gender_number'].value_counts()"
   ]
  },
  {
   "cell_type": "markdown",
   "metadata": {
    "nbpresent": {
     "id": "56a50696-4906-4dcd-8041-e128ac76fd55"
    }
   },
   "source": [
    "- 14 rows are in two categories"
   ]
  },
  {
   "cell_type": "markdown",
   "metadata": {
    "nbpresent": {
     "id": "dfecd316-b658-4700-9a60-b9d86fd685c1"
    }
   },
   "source": [
    "#### Summary\n",
    "\n",
    "- tweet_id has to be a string\n",
    "- rows have to be suppress if the value is non-null to conserve only original tweets for the following coulumns : in_reply_to_status_id, in_reply_to_user_id, retweeted_status_id, retweeted_status_user_id, retweeted_statud_timestamp\n",
    "- source has html residues\n",
    "- missing expanded urls\n",
    "- doggo, floofer, pupper and puppo represents one variable and due to tidyness rule have to be one column\n",
    "- doggo, floofer, pupper and puppo have None string\n",
    "- 14 rows are in two categories\n",
    "- 'None' object in doggo, floofer, pupper and puppo have to be convert into NaN\n",
    "- timestamp have to be convert into datetime to be exploitable\n",
    "- name column have stop words\n",
    "- name column have 745 None string\n",
    "- 639 double links in expanded_urls\n",
    "- 23 rating denominator not on 10\n",
    "- 440 numerator inferior to 10\n",
    "- all numerators with decimal are false in rating_numerator column"
   ]
  },
  {
   "cell_type": "markdown",
   "metadata": {
    "nbpresent": {
     "id": "3a6defc6-b7a9-4350-8630-27b15fa4dc42"
    }
   },
   "source": [
    "### 2.2 Assessing image\n",
    "<a id='assessing_image'></a>"
   ]
  },
  {
   "cell_type": "code",
   "execution_count": 117,
   "metadata": {
    "nbpresent": {
     "id": "f48d0c97-09c6-4c2d-87f2-18cc0eba6b57"
    }
   },
   "outputs": [
    {
     "data": {
      "text/html": [
       "<div>\n",
       "<style>\n",
       "    .dataframe thead tr:only-child th {\n",
       "        text-align: right;\n",
       "    }\n",
       "\n",
       "    .dataframe thead th {\n",
       "        text-align: left;\n",
       "    }\n",
       "\n",
       "    .dataframe tbody tr th {\n",
       "        vertical-align: top;\n",
       "    }\n",
       "</style>\n",
       "<table border=\"1\" class=\"dataframe\">\n",
       "  <thead>\n",
       "    <tr style=\"text-align: right;\">\n",
       "      <th></th>\n",
       "      <th>tweet_id</th>\n",
       "      <th>jpg_url</th>\n",
       "      <th>img_num</th>\n",
       "      <th>p1</th>\n",
       "      <th>p1_conf</th>\n",
       "      <th>p1_dog</th>\n",
       "      <th>p2</th>\n",
       "      <th>p2_conf</th>\n",
       "      <th>p2_dog</th>\n",
       "      <th>p3</th>\n",
       "      <th>p3_conf</th>\n",
       "      <th>p3_dog</th>\n",
       "    </tr>\n",
       "  </thead>\n",
       "  <tbody>\n",
       "    <tr>\n",
       "      <th>0</th>\n",
       "      <td>666020888022790149</td>\n",
       "      <td>https://pbs.twimg.com/media/CT4udn0WwAA0aMy.jpg</td>\n",
       "      <td>1</td>\n",
       "      <td>Welsh_springer_spaniel</td>\n",
       "      <td>0.465074</td>\n",
       "      <td>True</td>\n",
       "      <td>collie</td>\n",
       "      <td>0.156665</td>\n",
       "      <td>True</td>\n",
       "      <td>Shetland_sheepdog</td>\n",
       "      <td>0.061428</td>\n",
       "      <td>True</td>\n",
       "    </tr>\n",
       "    <tr>\n",
       "      <th>1</th>\n",
       "      <td>666029285002620928</td>\n",
       "      <td>https://pbs.twimg.com/media/CT42GRgUYAA5iDo.jpg</td>\n",
       "      <td>1</td>\n",
       "      <td>redbone</td>\n",
       "      <td>0.506826</td>\n",
       "      <td>True</td>\n",
       "      <td>miniature_pinscher</td>\n",
       "      <td>0.074192</td>\n",
       "      <td>True</td>\n",
       "      <td>Rhodesian_ridgeback</td>\n",
       "      <td>0.072010</td>\n",
       "      <td>True</td>\n",
       "    </tr>\n",
       "    <tr>\n",
       "      <th>2</th>\n",
       "      <td>666033412701032449</td>\n",
       "      <td>https://pbs.twimg.com/media/CT4521TWwAEvMyu.jpg</td>\n",
       "      <td>1</td>\n",
       "      <td>German_shepherd</td>\n",
       "      <td>0.596461</td>\n",
       "      <td>True</td>\n",
       "      <td>malinois</td>\n",
       "      <td>0.138584</td>\n",
       "      <td>True</td>\n",
       "      <td>bloodhound</td>\n",
       "      <td>0.116197</td>\n",
       "      <td>True</td>\n",
       "    </tr>\n",
       "    <tr>\n",
       "      <th>3</th>\n",
       "      <td>666044226329800704</td>\n",
       "      <td>https://pbs.twimg.com/media/CT5Dr8HUEAA-lEu.jpg</td>\n",
       "      <td>1</td>\n",
       "      <td>Rhodesian_ridgeback</td>\n",
       "      <td>0.408143</td>\n",
       "      <td>True</td>\n",
       "      <td>redbone</td>\n",
       "      <td>0.360687</td>\n",
       "      <td>True</td>\n",
       "      <td>miniature_pinscher</td>\n",
       "      <td>0.222752</td>\n",
       "      <td>True</td>\n",
       "    </tr>\n",
       "    <tr>\n",
       "      <th>4</th>\n",
       "      <td>666049248165822465</td>\n",
       "      <td>https://pbs.twimg.com/media/CT5IQmsXIAAKY4A.jpg</td>\n",
       "      <td>1</td>\n",
       "      <td>miniature_pinscher</td>\n",
       "      <td>0.560311</td>\n",
       "      <td>True</td>\n",
       "      <td>Rottweiler</td>\n",
       "      <td>0.243682</td>\n",
       "      <td>True</td>\n",
       "      <td>Doberman</td>\n",
       "      <td>0.154629</td>\n",
       "      <td>True</td>\n",
       "    </tr>\n",
       "  </tbody>\n",
       "</table>\n",
       "</div>"
      ],
      "text/plain": [
       "             tweet_id                                          jpg_url  \\\n",
       "0  666020888022790149  https://pbs.twimg.com/media/CT4udn0WwAA0aMy.jpg   \n",
       "1  666029285002620928  https://pbs.twimg.com/media/CT42GRgUYAA5iDo.jpg   \n",
       "2  666033412701032449  https://pbs.twimg.com/media/CT4521TWwAEvMyu.jpg   \n",
       "3  666044226329800704  https://pbs.twimg.com/media/CT5Dr8HUEAA-lEu.jpg   \n",
       "4  666049248165822465  https://pbs.twimg.com/media/CT5IQmsXIAAKY4A.jpg   \n",
       "\n",
       "   img_num                      p1   p1_conf  p1_dog                  p2  \\\n",
       "0        1  Welsh_springer_spaniel  0.465074    True              collie   \n",
       "1        1                 redbone  0.506826    True  miniature_pinscher   \n",
       "2        1         German_shepherd  0.596461    True            malinois   \n",
       "3        1     Rhodesian_ridgeback  0.408143    True             redbone   \n",
       "4        1      miniature_pinscher  0.560311    True          Rottweiler   \n",
       "\n",
       "    p2_conf  p2_dog                   p3   p3_conf  p3_dog  \n",
       "0  0.156665    True    Shetland_sheepdog  0.061428    True  \n",
       "1  0.074192    True  Rhodesian_ridgeback  0.072010    True  \n",
       "2  0.138584    True           bloodhound  0.116197    True  \n",
       "3  0.360687    True   miniature_pinscher  0.222752    True  \n",
       "4  0.243682    True             Doberman  0.154629    True  "
      ]
     },
     "execution_count": 117,
     "metadata": {},
     "output_type": "execute_result"
    }
   ],
   "source": [
    "image.head()"
   ]
  },
  {
   "cell_type": "markdown",
   "metadata": {
    "nbpresent": {
     "id": "e7982bcb-2b65-4e70-bf19-db553ce54745"
    }
   },
   "source": [
    "- p1, p2, p3 have inconsistent writing"
   ]
  },
  {
   "cell_type": "code",
   "execution_count": 118,
   "metadata": {
    "nbpresent": {
     "id": "f3f99e81-a79e-4e84-92d6-b02e07831b61"
    }
   },
   "outputs": [
    {
     "name": "stdout",
     "output_type": "stream",
     "text": [
      "<class 'pandas.core.frame.DataFrame'>\n",
      "RangeIndex: 2075 entries, 0 to 2074\n",
      "Data columns (total 12 columns):\n",
      "tweet_id    2075 non-null int64\n",
      "jpg_url     2075 non-null object\n",
      "img_num     2075 non-null int64\n",
      "p1          2075 non-null object\n",
      "p1_conf     2075 non-null float64\n",
      "p1_dog      2075 non-null bool\n",
      "p2          2075 non-null object\n",
      "p2_conf     2075 non-null float64\n",
      "p2_dog      2075 non-null bool\n",
      "p3          2075 non-null object\n",
      "p3_conf     2075 non-null float64\n",
      "p3_dog      2075 non-null bool\n",
      "dtypes: bool(3), float64(3), int64(2), object(4)\n",
      "memory usage: 152.1+ KB\n"
     ]
    }
   ],
   "source": [
    "image.info()"
   ]
  },
  {
   "cell_type": "code",
   "execution_count": 119,
   "metadata": {
    "nbpresent": {
     "id": "b61441ec-9fbb-49f6-ad85-63bb57184944"
    }
   },
   "outputs": [
    {
     "data": {
      "text/plain": [
       "0"
      ]
     },
     "execution_count": 119,
     "metadata": {},
     "output_type": "execute_result"
    }
   ],
   "source": [
    "# check duplicate id \n",
    "image.duplicated().sum()"
   ]
  },
  {
   "cell_type": "code",
   "execution_count": 120,
   "metadata": {
    "nbpresent": {
     "id": "a2f3ffb5-59e3-4307-ae0b-1fbf1ba3218a"
    }
   },
   "outputs": [
    {
     "name": "stdout",
     "output_type": "stream",
     "text": [
      "0 row have 0 image\n"
     ]
    }
   ],
   "source": [
    "# check present image\n",
    "image_count = 0\n",
    "for i in image['img_num']:\n",
    "    if i < 1:\n",
    "        image_count += 1\n",
    "print('{} row have 0 image'.format(image_count))"
   ]
  },
  {
   "cell_type": "code",
   "execution_count": 121,
   "metadata": {
    "nbpresent": {
     "id": "58f535ef-57db-44c4-824c-63a37419a71a"
    }
   },
   "outputs": [
    {
     "data": {
      "text/plain": [
       "1    1780\n",
       "2     198\n",
       "3      66\n",
       "4      31\n",
       "Name: img_num, dtype: int64"
      ]
     },
     "execution_count": 121,
     "metadata": {},
     "output_type": "execute_result"
    }
   ],
   "source": [
    "# image count\n",
    "image['img_num'].value_counts()"
   ]
  },
  {
   "cell_type": "code",
   "execution_count": 122,
   "metadata": {
    "nbpresent": {
     "id": "28eb3563-a723-4e01-8f78-417a90cb5786"
    }
   },
   "outputs": [
    {
     "name": "stdout",
     "output_type": "stream",
     "text": [
      "tweet_id column have 0 stop words\n",
      "jpg_url column have 0 stop words\n",
      "img_num column have 0 stop words\n",
      "p1 column have 0 stop words\n",
      "p1_conf column have 0 stop words\n",
      "p2 column have 0 stop words\n",
      "p2_conf column have 0 stop words\n",
      "p3 column have 0 stop words\n",
      "p3_conf column have 0 stop words\n",
      "p1_dog column have 0 stop words\n",
      "p2_dog column have 0 stop words\n",
      "p3_dog column have 0 stop words\n"
     ]
    }
   ],
   "source": [
    "# check stop word for each columns\n",
    "stop_words(image['tweet_id'],'tweet_id')\n",
    "stop_words(image['jpg_url'],'jpg_url')\n",
    "stop_words(image['img_num'],'img_num')\n",
    "stop_words(image['p1'],'p1')\n",
    "stop_words(image['p1_conf'],'p1_conf')\n",
    "stop_words(image['p2'],'p2')\n",
    "stop_words(image['p2_conf'],'p2_conf')\n",
    "stop_words(image['p3'],'p3')\n",
    "stop_words(image['p3_conf'],'p3_conf')\n",
    "stop_words(image['p1_dog'],'p1_dog')\n",
    "stop_words(image['p2_dog'],'p2_dog')\n",
    "stop_words(image['p3_dog'],'p3_dog')"
   ]
  },
  {
   "cell_type": "code",
   "execution_count": 123,
   "metadata": {
    "nbpresent": {
     "id": "91c7bf0d-67ce-4297-95ac-04a5bbe31f40"
    }
   },
   "outputs": [
    {
     "name": "stdout",
     "output_type": "stream",
     "text": [
      "tweet_id column have 0 None\n",
      "timestamp column have 0 None\n",
      "source column have 0 None\n",
      "expanded_urls column have 0 None\n",
      "rating_numerator column have 0 None\n",
      "rating_denominator column have 0 None\n",
      "name column have 745 None\n",
      "doggo column have 2259 None\n",
      "floofer column have 2346 None\n",
      "pupper column have 2099 None\n",
      "puppo column have 2326 None\n"
     ]
    }
   ],
   "source": [
    "# check none string\n",
    "none_detection(archive['tweet_id'],'tweet_id')\n",
    "none_detection(archive['timestamp'],'timestamp')\n",
    "none_detection(archive['source'],'source')\n",
    "none_detection(archive['expanded_urls'],'expanded_urls')\n",
    "none_detection(archive['rating_numerator'],'rating_numerator')\n",
    "none_detection(archive['rating_denominator'],'rating_denominator')\n",
    "none_detection(archive['name'],'name')\n",
    "none_detection(archive['doggo'],'doggo')\n",
    "none_detection(archive['floofer'],'floofer')\n",
    "none_detection(archive['pupper'],'pupper')\n",
    "none_detection(archive['puppo'],'puppo')"
   ]
  },
  {
   "cell_type": "code",
   "execution_count": 124,
   "metadata": {
    "nbpresent": {
     "id": "3962d0fe-373f-4485-8104-db2842e2c2fb"
    }
   },
   "outputs": [
    {
     "data": {
      "text/plain": [
       "True     1532\n",
       "False     543\n",
       "Name: p1_dog, dtype: int64"
      ]
     },
     "execution_count": 124,
     "metadata": {},
     "output_type": "execute_result"
    },
    {
     "data": {
      "image/png": "[encoded data removed]",
      "text/plain": [
       "<matplotlib.figure.Figure at 0x1a0e49d2b0>"
      ]
     },
     "metadata": {},
     "output_type": "display_data"
    }
   ],
   "source": [
    "# check if dog1\n",
    "plt.figure(figsize=(15,7))\n",
    "sns.countplot(image.p1_dog)\n",
    "\n",
    "image['p1_dog'].value_counts()"
   ]
  },
  {
   "cell_type": "code",
   "execution_count": 125,
   "metadata": {
    "nbpresent": {
     "id": "8de70004-725e-4e17-ba0b-8745cefcadb4"
    }
   },
   "outputs": [
    {
     "data": {
      "text/plain": [
       "True     1553\n",
       "False     522\n",
       "Name: p2_dog, dtype: int64"
      ]
     },
     "execution_count": 125,
     "metadata": {},
     "output_type": "execute_result"
    },
    {
     "data": {
      "image/png": "[encoded data removed]",
      "text/plain": [
       "<matplotlib.figure.Figure at 0x1a0ff379e8>"
      ]
     },
     "metadata": {},
     "output_type": "display_data"
    }
   ],
   "source": [
    "# check if dog2\n",
    "plt.figure(figsize=(15,7))\n",
    "sns.countplot(image.p2_dog)\n",
    "\n",
    "image['p2_dog'].value_counts()"
   ]
  },
  {
   "cell_type": "code",
   "execution_count": 126,
   "metadata": {
    "nbpresent": {
     "id": "e4e9659a-98a1-4a7f-b59f-c6cbd20efb63"
    }
   },
   "outputs": [
    {
     "data": {
      "text/plain": [
       "True     1499\n",
       "False     576\n",
       "Name: p3_dog, dtype: int64"
      ]
     },
     "execution_count": 126,
     "metadata": {},
     "output_type": "execute_result"
    },
    {
     "data": {
      "image/png": "[encoded data removed]",
      "text/plain": [
       "<matplotlib.figure.Figure at 0x1a0ffc77b8>"
      ]
     },
     "metadata": {},
     "output_type": "display_data"
    }
   ],
   "source": [
    "# check if dog3\n",
    "plt.figure(figsize=(15,7))\n",
    "sns.countplot(image.p3_dog)\n",
    "\n",
    "image['p3_dog'].value_counts()"
   ]
  },
  {
   "cell_type": "code",
   "execution_count": 127,
   "metadata": {
    "nbpresent": {
     "id": "508c2f60-f563-4912-bf27-688988bc2f90"
    }
   },
   "outputs": [
    {
     "data": {
      "text/plain": [
       "0    1243\n",
       "1     347\n",
       "3     324\n",
       "2     161\n",
       "Name: no_dog, dtype: int64"
      ]
     },
     "execution_count": 127,
     "metadata": {},
     "output_type": "execute_result"
    },
    {
     "data": {
      "image/png": "[encoded data removed]",
      "text/plain": [
       "<matplotlib.figure.Figure at 0x1a0ff89358>"
      ]
     },
     "metadata": {},
     "output_type": "display_data"
    }
   ],
   "source": [
    "# check if it's a dog\n",
    "\n",
    "# transform category in 0 or 1\n",
    "# temporarily create a new category \n",
    "\n",
    "# create a copy \n",
    "image_2 = image.copy()\n",
    "\n",
    "# convert column to 0 and 1 \n",
    "image_2['p1_dog'] = image_2['p1_dog'].apply(lambda x: 0 if x==True else 1)\n",
    "image_2['p2_dog'] = image_2['p2_dog'].apply(lambda x: 0 if x==True else 1)\n",
    "image_2['p3_dog'] = image_2['p3_dog'].apply(lambda x: 0 if x==True else 1)\n",
    "\n",
    "#create a new column \n",
    "image_2['no_dog']=image_2.iloc[:,[5,8,11]].sum(axis=1)\n",
    "\n",
    "# mesure the number \n",
    "plt.figure(figsize=(15,7))\n",
    "sns.countplot(image_2.no_dog)\n",
    "\n",
    "# count \n",
    "image_2['no_dog'].value_counts()"
   ]
  },
  {
   "cell_type": "markdown",
   "metadata": {
    "nbpresent": {
     "id": "d913de5e-c78c-4a89-8908-43446029f12c"
    }
   },
   "source": [
    "- in 324 rows no dogs is recognized"
   ]
  },
  {
   "cell_type": "markdown",
   "metadata": {
    "nbpresent": {
     "id": "b69b2fa6-a5a8-4301-bd9d-933a91cb577a"
    }
   },
   "source": [
    "#### Summary\n",
    "- p1, p2, p3 have inconsistent writing\n",
    "- in 324 rows no dogs is recognized"
   ]
  },
  {
   "cell_type": "markdown",
   "metadata": {
    "nbpresent": {
     "id": "95359868-2157-46e3-938b-c723b019f760"
    }
   },
   "source": [
    "### 2.3 Assessing info\n",
    "<a id='assessing_info'></a>"
   ]
  },
  {
   "cell_type": "code",
   "execution_count": 128,
   "metadata": {
    "nbpresent": {
     "id": "3062f73c-7e71-4ddd-b5fc-392eb8262fd9"
    }
   },
   "outputs": [
    {
     "data": {
      "text/html": [
       "<div>\n",
       "<style>\n",
       "    .dataframe thead tr:only-child th {\n",
       "        text-align: right;\n",
       "    }\n",
       "\n",
       "    .dataframe thead th {\n",
       "        text-align: left;\n",
       "    }\n",
       "\n",
       "    .dataframe tbody tr th {\n",
       "        vertical-align: top;\n",
       "    }\n",
       "</style>\n",
       "<table border=\"1\" class=\"dataframe\">\n",
       "  <thead>\n",
       "    <tr style=\"text-align: right;\">\n",
       "      <th></th>\n",
       "      <th>favorite_count</th>\n",
       "      <th>id</th>\n",
       "      <th>retweet_count</th>\n",
       "    </tr>\n",
       "  </thead>\n",
       "  <tbody>\n",
       "    <tr>\n",
       "      <th>0</th>\n",
       "      <td>39007</td>\n",
       "      <td>892420643555336193</td>\n",
       "      <td>8658</td>\n",
       "    </tr>\n",
       "    <tr>\n",
       "      <th>1</th>\n",
       "      <td>33395</td>\n",
       "      <td>892177421306343426</td>\n",
       "      <td>6358</td>\n",
       "    </tr>\n",
       "    <tr>\n",
       "      <th>2</th>\n",
       "      <td>25181</td>\n",
       "      <td>891815181378084864</td>\n",
       "      <td>4223</td>\n",
       "    </tr>\n",
       "    <tr>\n",
       "      <th>3</th>\n",
       "      <td>42360</td>\n",
       "      <td>891689557279858688</td>\n",
       "      <td>8769</td>\n",
       "    </tr>\n",
       "    <tr>\n",
       "      <th>4</th>\n",
       "      <td>40520</td>\n",
       "      <td>891327558926688256</td>\n",
       "      <td>9536</td>\n",
       "    </tr>\n",
       "  </tbody>\n",
       "</table>\n",
       "</div>"
      ],
      "text/plain": [
       "   favorite_count                  id  retweet_count\n",
       "0           39007  892420643555336193           8658\n",
       "1           33395  892177421306343426           6358\n",
       "2           25181  891815181378084864           4223\n",
       "3           42360  891689557279858688           8769\n",
       "4           40520  891327558926688256           9536"
      ]
     },
     "execution_count": 128,
     "metadata": {},
     "output_type": "execute_result"
    }
   ],
   "source": [
    "info.head()"
   ]
  },
  {
   "cell_type": "code",
   "execution_count": 129,
   "metadata": {
    "nbpresent": {
     "id": "171ca9c0-b3a1-4334-806e-aa5278e03861"
    }
   },
   "outputs": [
    {
     "name": "stdout",
     "output_type": "stream",
     "text": [
      "<class 'pandas.core.frame.DataFrame'>\n",
      "RangeIndex: 2345 entries, 0 to 2344\n",
      "Data columns (total 3 columns):\n",
      "favorite_count    2345 non-null int64\n",
      "id                2345 non-null int64\n",
      "retweet_count     2345 non-null int64\n",
      "dtypes: int64(3)\n",
      "memory usage: 55.0 KB\n"
     ]
    }
   ],
   "source": [
    "info.info()"
   ]
  },
  {
   "cell_type": "code",
   "execution_count": 130,
   "metadata": {
    "nbpresent": {
     "id": "424f78b3-81cb-4391-99ff-0a8839d9953b"
    }
   },
   "outputs": [
    {
     "data": {
      "text/plain": [
       "0"
      ]
     },
     "execution_count": 130,
     "metadata": {},
     "output_type": "execute_result"
    }
   ],
   "source": [
    "info.duplicated().sum()"
   ]
  },
  {
   "cell_type": "markdown",
   "metadata": {
    "nbpresent": {
     "id": "7e46f673-ff74-4473-b35d-33bca20c7600"
    }
   },
   "source": [
    "### 2.4 Assessing conclusion\n",
    "<a id='assessing_conclusion'></a>"
   ]
  },
  {
   "cell_type": "markdown",
   "metadata": {
    "nbpresent": {
     "id": "fa7eef96-7119-45ee-a385-73ff372cd9b3"
    }
   },
   "source": [
    "*** Archive ***\n",
    "- tweet_id has to be a string\n",
    "- rows have to be suppress if the value is non-null to conserve only original tweets for the following coulumns : in_reply_to_status_id, in_reply_to_user_id, retweeted_status_id, retweeted_status_user_id, retweeted_statud_timestamp\n",
    "- source has html residues\n",
    "- doggo, floofer, pupper and puppo represents one variable and due to tidyness rule have to be one column\n",
    "- doggo, floofer, pupper and puppo have None string\n",
    "- 14 rows are in two categories\n",
    "- 'None' object in doggo, floofer, pupper and puppo have to be convert into NaN\n",
    "- timestamp have to be convert into datetime to be exploitable\n",
    "- name column have stop words\n",
    "- name column have 745 None string\n",
    "- name column are inconsistent (lower case and upper case)\n",
    "- 639 double links in expanded_urls\n",
    "- 23 rating denominator not on 10\n",
    "- 440 numerator inferior to 10\n",
    "- all numerators with decimal are false in rating_numerator column\n",
    "\n",
    "*** Image ***\n",
    "- tweet id has to be a string\n",
    "- p1, p2, p3 have inconsistent writing\n",
    "- in 324 rows no dogs is recognized\n",
    "\n",
    "*** Info ***\n",
    "- id has to be a string\n",
    "\n",
    "*** Global *** \n",
    "- we need to have the same len for each document\n",
    "- we need to have one dataframe"
   ]
  },
  {
   "cell_type": "markdown",
   "metadata": {
    "nbpresent": {
     "id": "44070bb1-5a2b-4427-b9e0-6328f4f36c84"
    }
   },
   "source": [
    "# 3. Cleaning Data\n",
    "<a id='cleaning_data'></a>"
   ]
  },
  {
   "cell_type": "code",
   "execution_count": 132,
   "metadata": {
    "collapsed": true,
    "nbpresent": {
     "id": "2974e0e8-d8cc-443d-ab66-86cbe29e873d"
    }
   },
   "outputs": [],
   "source": [
    "# copy dataframe\n",
    "clean_archive=archive.copy()\n",
    "clean_image=image.copy()\n",
    "clean_info=info.copy()"
   ]
  },
  {
   "cell_type": "markdown",
   "metadata": {
    "nbpresent": {
     "id": "a8a7b7d7-96ed-4c63-9c3e-554479a06fbd"
    }
   },
   "source": [
    "### Sub-sections\n",
    "\n",
    "<a href='#cleaning_archive'>3.1 Cleaning archive</a> \n",
    "\n",
    "<a href='#cleaning_image'>3.2 Cleaning image</a>\n",
    "\n",
    "<a href='#cleaning_info'>3.3 Cleaning info</a> \n",
    "\n",
    "<a href='#merging_data'>3.4 Merging data</a> "
   ]
  },
  {
   "cell_type": "markdown",
   "metadata": {
    "nbpresent": {
     "id": "54a553fc-bb90-4213-b950-84820c5fd917"
    }
   },
   "source": [
    "### 3.1 Cleaning archive\n",
    "<a id='cleaning_archive'></a>"
   ]
  },
  {
   "cell_type": "markdown",
   "metadata": {
    "nbpresent": {
     "id": "b1bd5bba-0669-493d-944c-639bbe97f822"
    }
   },
   "source": [
    "#### Suppress double links error and create url when missing"
   ]
  },
  {
   "cell_type": "code",
   "execution_count": 133,
   "metadata": {
    "collapsed": true,
    "nbpresent": {
     "id": "f26e4c5c-aa5b-4568-a01c-f1d39cd583f5"
    }
   },
   "outputs": [],
   "source": [
    "# clean all urls \n",
    "for i in range(len(clean_archive)):\n",
    "    tweet_id=clean_archive['tweet_id'][i]\n",
    "    url = 'https://twitter.com/dog_rates/status/{}'.format(tweet_id)\n",
    "    clean_archive['expanded_urls'].replace(clean_archive['expanded_urls'][i],url,inplace=True)\n",
    "# inspiration : https://github.com/pandas-dev/pandas/issues/9106"
   ]
  },
  {
   "cell_type": "code",
   "execution_count": 134,
   "metadata": {},
   "outputs": [
    {
     "name": "stdout",
     "output_type": "stream",
     "text": [
      "<class 'pandas.core.frame.DataFrame'>\n",
      "RangeIndex: 2356 entries, 0 to 2355\n",
      "Data columns (total 17 columns):\n",
      "tweet_id                      2356 non-null int64\n",
      "in_reply_to_status_id         78 non-null float64\n",
      "in_reply_to_user_id           78 non-null float64\n",
      "timestamp                     2356 non-null object\n",
      "source                        2356 non-null object\n",
      "text                          2356 non-null object\n",
      "retweeted_status_id           181 non-null float64\n",
      "retweeted_status_user_id      181 non-null float64\n",
      "retweeted_status_timestamp    181 non-null object\n",
      "expanded_urls                 2356 non-null object\n",
      "rating_numerator              2356 non-null int64\n",
      "rating_denominator            2356 non-null int64\n",
      "name                          2356 non-null object\n",
      "doggo                         2356 non-null object\n",
      "floofer                       2356 non-null object\n",
      "pupper                        2356 non-null object\n",
      "puppo                         2356 non-null object\n",
      "dtypes: float64(4), int64(3), object(10)\n",
      "memory usage: 313.0+ KB\n"
     ]
    }
   ],
   "source": [
    "# confirm \n",
    "clean_archive.info()"
   ]
  },
  {
   "cell_type": "markdown",
   "metadata": {
    "nbpresent": {
     "id": "d305871b-dece-4b6f-bb3a-0493466949aa"
    }
   },
   "source": [
    "#### Suppress rows with retweet and non-necessary columns"
   ]
  },
  {
   "cell_type": "code",
   "execution_count": 135,
   "metadata": {
    "collapsed": true
   },
   "outputs": [],
   "source": [
    "# drop rows\n",
    "clean_archive = clean_archive[clean_archive['in_reply_to_status_id'].isnull()]\n",
    "clean_archive = clean_archive[clean_archive['retweeted_status_id'].isnull()]"
   ]
  },
  {
   "cell_type": "code",
   "execution_count": 136,
   "metadata": {
    "collapsed": true
   },
   "outputs": [],
   "source": [
    "# drop columns\n",
    "clean_archive.drop(['in_reply_to_status_id','in_reply_to_user_id','retweeted_status_id',\n",
    "           'retweeted_status_user_id','retweeted_status_timestamp'], axis=1, inplace = True)"
   ]
  },
  {
   "cell_type": "code",
   "execution_count": 137,
   "metadata": {},
   "outputs": [
    {
     "name": "stdout",
     "output_type": "stream",
     "text": [
      "259\n"
     ]
    },
    {
     "data": {
      "text/html": [
       "<div>\n",
       "<style>\n",
       "    .dataframe thead tr:only-child th {\n",
       "        text-align: right;\n",
       "    }\n",
       "\n",
       "    .dataframe thead th {\n",
       "        text-align: left;\n",
       "    }\n",
       "\n",
       "    .dataframe tbody tr th {\n",
       "        vertical-align: top;\n",
       "    }\n",
       "</style>\n",
       "<table border=\"1\" class=\"dataframe\">\n",
       "  <thead>\n",
       "    <tr style=\"text-align: right;\">\n",
       "      <th></th>\n",
       "      <th>tweet_id</th>\n",
       "      <th>timestamp</th>\n",
       "      <th>source</th>\n",
       "      <th>text</th>\n",
       "      <th>expanded_urls</th>\n",
       "      <th>rating_numerator</th>\n",
       "      <th>rating_denominator</th>\n",
       "      <th>name</th>\n",
       "      <th>doggo</th>\n",
       "      <th>floofer</th>\n",
       "      <th>pupper</th>\n",
       "      <th>puppo</th>\n",
       "    </tr>\n",
       "  </thead>\n",
       "  <tbody>\n",
       "  </tbody>\n",
       "</table>\n",
       "</div>"
      ],
      "text/plain": [
       "Empty DataFrame\n",
       "Columns: [tweet_id, timestamp, source, text, expanded_urls, rating_numerator, rating_denominator, name, doggo, floofer, pupper, puppo]\n",
       "Index: []"
      ]
     },
     "execution_count": 137,
     "metadata": {},
     "output_type": "execute_result"
    }
   ],
   "source": [
    "# confirm\n",
    "print(len(archive)-len(clean_archive))\n",
    "clean_archive.head(0)"
   ]
  },
  {
   "cell_type": "markdown",
   "metadata": {
    "nbpresent": {
     "id": "4e1065ea-43a6-4096-a026-91d470ac94b8"
    }
   },
   "source": [
    "#### Suppress html residues in source"
   ]
  },
  {
   "cell_type": "code",
   "execution_count": 138,
   "metadata": {
    "collapsed": true,
    "nbpresent": {
     "id": "29d10854-057b-4b6a-ad22-ac15a78180a2"
    }
   },
   "outputs": [],
   "source": [
    "# code \n",
    "\n",
    "clean_archive['source'] = clean_archive['source'].map(lambda x: x.lstrip('<a href=').rstrip('</a>'))\n",
    "\n",
    "# source : https://stackoverflow.com/questions/13682044/pandas-dataframe-remove-unwanted-parts-from-strings-in-a-column"
   ]
  },
  {
   "cell_type": "code",
   "execution_count": 139,
   "metadata": {
    "nbpresent": {
     "id": "466a91b2-7b94-4585-a2ec-eda733a7708c"
    }
   },
   "outputs": [
    {
     "data": {
      "text/plain": [
       "0    \"http://twitter.com/download/iphone\" rel=\"nofo...\n",
       "1    \"http://twitter.com/download/iphone\" rel=\"nofo...\n",
       "2    \"http://twitter.com/download/iphone\" rel=\"nofo...\n",
       "3    \"http://twitter.com/download/iphone\" rel=\"nofo...\n",
       "4    \"http://twitter.com/download/iphone\" rel=\"nofo...\n",
       "Name: source, dtype: object"
      ]
     },
     "execution_count": 139,
     "metadata": {},
     "output_type": "execute_result"
    }
   ],
   "source": [
    "# confirm \n",
    "clean_archive['source'].head()"
   ]
  },
  {
   "cell_type": "markdown",
   "metadata": {
    "nbpresent": {
     "id": "58d8872c-fcba-44fc-a7eb-9f5c3d768b5d"
    }
   },
   "source": [
    "#### Convert timestamp to datetime"
   ]
  },
  {
   "cell_type": "code",
   "execution_count": 145,
   "metadata": {
    "collapsed": true,
    "nbpresent": {
     "id": "610d3d76-9fff-4f65-8fd2-75ccb4fb1163"
    }
   },
   "outputs": [],
   "source": [
    "# convert\n",
    "clean_archive['timestamp'] = pd.to_datetime(clean_archive['timestamp'])"
   ]
  },
  {
   "cell_type": "code",
   "execution_count": 146,
   "metadata": {
    "nbpresent": {
     "id": "6934f237-8a8e-40bc-a575-bf4e19eb5c7f"
    }
   },
   "outputs": [
    {
     "name": "stdout",
     "output_type": "stream",
     "text": [
      "<class 'pandas.core.frame.DataFrame'>\n",
      "Int64Index: 2097 entries, 0 to 2355\n",
      "Data columns (total 12 columns):\n",
      "tweet_id              2097 non-null object\n",
      "timestamp             2097 non-null datetime64[ns]\n",
      "source                2097 non-null object\n",
      "text                  2097 non-null object\n",
      "expanded_urls         2097 non-null object\n",
      "rating_numerator      2097 non-null int64\n",
      "rating_denominator    2097 non-null int64\n",
      "name                  2097 non-null object\n",
      "doggo                 2097 non-null object\n",
      "floofer               2097 non-null object\n",
      "pupper                2097 non-null object\n",
      "puppo                 2097 non-null object\n",
      "dtypes: datetime64[ns](1), int64(2), object(9)\n",
      "memory usage: 213.0+ KB\n"
     ]
    }
   ],
   "source": [
    "# confirm\n",
    "clean_archive.info()"
   ]
  },
  {
   "cell_type": "markdown",
   "metadata": {},
   "source": [
    "#### Convert tweet_id to string"
   ]
  },
  {
   "cell_type": "code",
   "execution_count": 147,
   "metadata": {},
   "outputs": [
    {
     "name": "stdout",
     "output_type": "stream",
     "text": [
      "<class 'pandas.core.frame.DataFrame'>\n",
      "Int64Index: 2097 entries, 0 to 2355\n",
      "Data columns (total 12 columns):\n",
      "tweet_id              2097 non-null object\n",
      "timestamp             2097 non-null datetime64[ns]\n",
      "source                2097 non-null object\n",
      "text                  2097 non-null object\n",
      "expanded_urls         2097 non-null object\n",
      "rating_numerator      2097 non-null int64\n",
      "rating_denominator    2097 non-null int64\n",
      "name                  2097 non-null object\n",
      "doggo                 2097 non-null object\n",
      "floofer               2097 non-null object\n",
      "pupper                2097 non-null object\n",
      "puppo                 2097 non-null object\n",
      "dtypes: datetime64[ns](1), int64(2), object(9)\n",
      "memory usage: 213.0+ KB\n"
     ]
    }
   ],
   "source": [
    "# convert\n",
    "clean_archive['tweet_id'] = clean_archive['tweet_id'].astype(str)"
   ]
  },
  {
   "cell_type": "code",
   "execution_count": 148,
   "metadata": {},
   "outputs": [
    {
     "name": "stdout",
     "output_type": "stream",
     "text": [
      "<class 'pandas.core.frame.DataFrame'>\n",
      "Int64Index: 2097 entries, 0 to 2355\n",
      "Data columns (total 12 columns):\n",
      "tweet_id              2097 non-null object\n",
      "timestamp             2097 non-null datetime64[ns]\n",
      "source                2097 non-null object\n",
      "text                  2097 non-null object\n",
      "expanded_urls         2097 non-null object\n",
      "rating_numerator      2097 non-null int64\n",
      "rating_denominator    2097 non-null int64\n",
      "name                  2097 non-null object\n",
      "doggo                 2097 non-null object\n",
      "floofer               2097 non-null object\n",
      "pupper                2097 non-null object\n",
      "puppo                 2097 non-null object\n",
      "dtypes: datetime64[ns](1), int64(2), object(9)\n",
      "memory usage: 213.0+ KB\n"
     ]
    }
   ],
   "source": [
    "# confirm\n",
    "clean_archive.info()"
   ]
  },
  {
   "cell_type": "markdown",
   "metadata": {
    "nbpresent": {
     "id": "b0c4aaa8-349f-4a24-ab5e-e355157a6451"
    }
   },
   "source": [
    "#### Suppress stop words in name column"
   ]
  },
  {
   "cell_type": "code",
   "execution_count": 149,
   "metadata": {
    "collapsed": true,
    "nbpresent": {
     "id": "702b54c1-009d-4d29-b1fd-20243b83f044"
    }
   },
   "outputs": [],
   "source": [
    "# after manual observation we can see than stop word remplace name\n",
    "# we suppress stop words \n",
    "for word in clean_archive['name']:\n",
    "    if word in ENGLISH_STOP_WORDS:\n",
    "        clean_archive['name']=clean_archive['name'].where(clean_archive['name']!=word, np.NaN)"
   ]
  },
  {
   "cell_type": "code",
   "execution_count": 150,
   "metadata": {
    "nbpresent": {
     "id": "075a289e-24db-47a7-b18c-46a83b429c77"
    }
   },
   "outputs": [
    {
     "name": "stdout",
     "output_type": "stream",
     "text": [
      "name column have 0 stop words\n"
     ]
    }
   ],
   "source": [
    "# confirm\n",
    "stop_words(clean_archive['name'],'name')"
   ]
  },
  {
   "cell_type": "markdown",
   "metadata": {
    "nbpresent": {
     "id": "ad681c7d-3233-4601-8bef-367d45e000f6"
    }
   },
   "source": [
    "#### Lower case in name column"
   ]
  },
  {
   "cell_type": "code",
   "execution_count": 151,
   "metadata": {
    "nbpresent": {
     "id": "04288122-75f0-4559-bdd3-ec7b34e3dbaa"
    }
   },
   "outputs": [
    {
     "data": {
      "text/plain": [
       "0        phineas\n",
       "1          tilly\n",
       "2         archie\n",
       "3          darla\n",
       "4       franklin\n",
       "5           none\n",
       "6            jax\n",
       "7           none\n",
       "8           zoey\n",
       "9         cassie\n",
       "10          koda\n",
       "11         bruno\n",
       "12          none\n",
       "13           ted\n",
       "14        stuart\n",
       "15        oliver\n",
       "16           jim\n",
       "17          zeke\n",
       "18       ralphus\n",
       "20        gerald\n",
       "21       jeffrey\n",
       "22           NaN\n",
       "23        canela\n",
       "24          none\n",
       "25          none\n",
       "26          maya\n",
       "27        mingus\n",
       "28         derek\n",
       "29        roscoe\n",
       "31       waffles\n",
       "          ...   \n",
       "2326       quite\n",
       "2327         NaN\n",
       "2328        none\n",
       "2329        none\n",
       "2330        none\n",
       "2331        none\n",
       "2332        none\n",
       "2333         NaN\n",
       "2334         NaN\n",
       "2335         NaN\n",
       "2336        none\n",
       "2337        none\n",
       "2338        none\n",
       "2339        none\n",
       "2340        none\n",
       "2341        none\n",
       "2342        none\n",
       "2343        none\n",
       "2344        none\n",
       "2345         NaN\n",
       "2346         NaN\n",
       "2347         NaN\n",
       "2348         NaN\n",
       "2349         NaN\n",
       "2350         NaN\n",
       "2351        none\n",
       "2352         NaN\n",
       "2353         NaN\n",
       "2354         NaN\n",
       "2355        none\n",
       "Name: name, Length: 2097, dtype: object"
      ]
     },
     "execution_count": 151,
     "metadata": {},
     "output_type": "execute_result"
    }
   ],
   "source": [
    "# lower case & confirm\n",
    "clean_archive['name']=clean_archive['name'].str.lower()\n",
    "clean_archive['name']"
   ]
  },
  {
   "cell_type": "markdown",
   "metadata": {
    "nbpresent": {
     "id": "0d2032f2-8c5b-4762-827a-9a2d4b0aacb6"
    }
   },
   "source": [
    "#### Change 'None' string by NaN"
   ]
  },
  {
   "cell_type": "code",
   "execution_count": 152,
   "metadata": {
    "collapsed": true,
    "nbpresent": {
     "id": "195dbb6d-99c9-46c1-807d-c5719a9823a1"
    }
   },
   "outputs": [],
   "source": [
    "# change None by NaN\n",
    "clean_archive['name']=clean_archive['name'].where(clean_archive['name']!=word, np.NaN) \n",
    "clean_archive['doggo']=clean_archive['doggo'].where(clean_archive['doggo']!=word, np.NaN) \n",
    "clean_archive['floofer']=clean_archive['floofer'].where(clean_archive['floofer']!=word, np.NaN) \n",
    "clean_archive['pupper']=clean_archive['pupper'].where(clean_archive['pupper']!=word, np.NaN) \n",
    "clean_archive['puppo']=clean_archive['puppo'].where(clean_archive['puppo']!=word, np.NaN) "
   ]
  },
  {
   "cell_type": "code",
   "execution_count": 153,
   "metadata": {
    "nbpresent": {
     "id": "f989ebc3-37b0-45af-b84e-ad9e50dda1f5"
    }
   },
   "outputs": [
    {
     "name": "stdout",
     "output_type": "stream",
     "text": [
      "name column have 0 None\n",
      "doggo column have 0 None\n",
      "floofer column have 0 None\n",
      "pupper column have 0 None\n",
      "puppo column have 0 None\n"
     ]
    }
   ],
   "source": [
    "# confirm\n",
    "none_detection(clean_archive['name'],'name')\n",
    "none_detection(clean_archive['doggo'],'doggo')\n",
    "none_detection(clean_archive['floofer'],'floofer')\n",
    "none_detection(clean_archive['pupper'],'pupper')\n",
    "none_detection(clean_archive['puppo'],'puppo')"
   ]
  },
  {
   "cell_type": "markdown",
   "metadata": {
    "nbpresent": {
     "id": "e16b2606-61ce-4371-a8e8-e1d4cba83583"
    }
   },
   "source": [
    "#### Observing numerator and denominator"
   ]
  },
  {
   "cell_type": "code",
   "execution_count": 154,
   "metadata": {
    "nbpresent": {
     "id": "a9eea995-91b5-41aa-92ec-6363fa23b7c2"
    }
   },
   "outputs": [
    {
     "name": "stdout",
     "output_type": "stream",
     "text": [
      "example 1:  After so many requests, this is Bretagne. She was the last surviving 9/11 search dog, and our second ever 14/10. RIP https://t.co/XAVDNDaVgQ\n",
      "example 2:  Happy 4/20 from the squad! 13/10 for all https://t.co/eV1diwds8a\n",
      "example 3:  This is an Albanian 3 1/2 legged  Episcopalian. Loves well-polished hardwood flooring. Penis on the collar. 9/10 https://t.co/d9NcXFKwLv\n"
     ]
    }
   ],
   "source": [
    "# observe numerator under ten\n",
    "print('example 1: ',clean_archive['text'][1068])\n",
    "print('example 2: ',clean_archive['text'][1165])\n",
    "print('example 3: ',clean_archive['text'][2335])"
   ]
  },
  {
   "cell_type": "markdown",
   "metadata": {
    "nbpresent": {
     "id": "6de9d93f-c068-4ab6-bf59-210627894b71"
    }
   },
   "source": [
    "With this example, we can observe two kind of rating not respecting the rules.\n",
    "First, it is delibarate and not an extraction problem, so we will keep it.\n",
    "Second, the extraction choose the first fraction in the message, and we can correct it."
   ]
  },
  {
   "cell_type": "code",
   "execution_count": 155,
   "metadata": {
    "nbpresent": {
     "id": "59bdf42b-8ed4-48e5-bb08-41b2385b3686"
    }
   },
   "outputs": [
    {
     "name": "stdout",
     "output_type": "stream",
     "text": [
      "After so many requests, this is Bretagne. She was the last surviving 9/11 search dog, and our second ever 14/10. RIP https://t.co/XAVDNDaVgQ\n",
      "Int64Index([1068], dtype='int64')\n",
      "Happy 4/20 from the squad! 13/10 for all https://t.co/eV1diwds8a\n",
      "Int64Index([1165], dtype='int64')\n",
      "This is Bluebert. He just saw that both #FinalFur match ups are split 50/50. Amazed af. 11/10 https://t.co/Kky1DPG4iq\n",
      "Int64Index([1202], dtype='int64')\n",
      "This is Darrel. He just robbed a 7/11 and is in a high speed police chase. Was just spotted by the helicopter 10/10 https://t.co/7EsP8LmSp5\n",
      "Int64Index([1662], dtype='int64')\n",
      "This is an Albanian 3 1/2 legged  Episcopalian. Loves well-polished hardwood flooring. Penis on the collar. 9/10 https://t.co/d9NcXFKwLv\n",
      "Int64Index([2335], dtype='int64')\n"
     ]
    }
   ],
   "source": [
    "# dataframe with items to analyze \n",
    "to_analyze = clean_archive.loc[clean_archive['rating_denominator']!=10]\n",
    "\n",
    "# detect '/10', print text and index\n",
    "for i in to_analyze['text']:\n",
    "    if '/10' in i:\n",
    "        print(i)\n",
    "        print(to_analyze[to_analyze['text']==i].index)"
   ]
  },
  {
   "cell_type": "code",
   "execution_count": 156,
   "metadata": {
    "collapsed": true,
    "nbpresent": {
     "id": "91c930c3-d2ef-43ed-a409-0e1b7e8bd3e0"
    }
   },
   "outputs": [],
   "source": [
    "# remplace data manually\n",
    "clean_archive.loc[clean_archive.index == 1068, 'rating_numerator'] = 14\n",
    "clean_archive.loc[clean_archive.index == 1165, 'rating_numerator'] = 13\n",
    "clean_archive.loc[clean_archive.index == 1202, 'rating_numerator'] = 11\n",
    "clean_archive.loc[clean_archive.index == 1662, 'rating_numerator'] = 10\n",
    "clean_archive.loc[clean_archive.index == 2335, 'rating_numerator'] = 9\n",
    "\n",
    "clean_archive.loc[clean_archive.index == 1068, 'rating_denominator'] = 10\n",
    "clean_archive.loc[clean_archive.index == 1165, 'rating_denominator'] = 10\n",
    "clean_archive.loc[clean_archive.index == 1202, 'rating_denominator'] = 10\n",
    "clean_archive.loc[clean_archive.index == 1662, 'rating_denominator'] = 10\n",
    "clean_archive.loc[clean_archive.index == 2335, 'rating_denominator'] = 10"
   ]
  },
  {
   "cell_type": "markdown",
   "metadata": {},
   "source": [
    "#### Correct numerators with decimal"
   ]
  },
  {
   "cell_type": "code",
   "execution_count": 158,
   "metadata": {},
   "outputs": [
    {
     "name": "stdout",
     "output_type": "stream",
     "text": [
      "index:  45 \n",
      " text:  This is Bella. She hopes her smile made you smile. If not, she is also offering you her favorite monkey. 13.5/10 https://t.co/qjrljjt948 \n",
      "numerator:  5 \n",
      "\n",
      "index:  340 \n",
      " text:  RT @dog_rates: This is Logan, the Chow who lived. He solemnly swears he's up to lots of good. H*ckin magical af 9.75/10 https://t.co/yBO5wu… \n",
      "numerator:  75 \n",
      "\n",
      "index:  695 \n",
      " text:  This is Logan, the Chow who lived. He solemnly swears he's up to lots of good. H*ckin magical af 9.75/10 https://t.co/yBO5wuqaPS \n",
      "numerator:  75 \n",
      "\n",
      "index:  763 \n",
      " text:  This is Sophie. She's a Jubilant Bush Pupper. Super h*ckin rare. Appears at random just to smile at the locals. 11.27/10 would smile back https://t.co/QFaUiIHxHq \n",
      "numerator:  27 \n",
      "\n",
      "index:  1689 \n",
      " text:  I've been told there's a slight possibility he's checking his mirror. We'll bump to 9.5/10. Still a menace \n",
      "numerator:  5 \n",
      "\n",
      "index:  1712 \n",
      " text:  Here we have uncovered an entire battalion of holiday puppers. Average of 11.26/10 https://t.co/eNm2S6p9BD \n",
      "numerator:  26 \n",
      "\n"
     ]
    }
   ],
   "source": [
    "# print index, text and numerator when text numerator contains a decimal\n",
    "for row in test['text']:\n",
    "    pattern = '(\\d+\\.\\d+)\\/(\\d+)'\n",
    "    search = re.search(pattern,row)\n",
    "    if search != None:\n",
    "        index=test.loc[test['text']==row].index[0]\n",
    "        text = archive.text[index]\n",
    "        numerator = archive.rating_numerator[index]\n",
    "        print('index: ',index,'\\n',\n",
    "              'text: ',text,'\\n'\n",
    "              'numerator: ',numerator,'\\n',\n",
    "             )\n",
    "        \n",
    "\n",
    "# inspiration: https://stackoverflow.com/questions/38175235/detect-pattern-in-a-string-in-python?utm_medium=organic&utm_source=google_rich_qa&utm_campaign=google_rich_qa\n",
    "# library : https://docs.python.org/2/library/re.html"
   ]
  },
  {
   "cell_type": "code",
   "execution_count": 159,
   "metadata": {
    "collapsed": true
   },
   "outputs": [],
   "source": [
    "# remplace data manually\n",
    "clean_archive.loc[clean_archive.index == 45, 'rating_numerator'] = 13.5\n",
    "clean_archive.loc[clean_archive.index == 340, 'rating_numerator'] = 9.75\n",
    "clean_archive.loc[clean_archive.index == 695, 'rating_numerator'] = 9.75\n",
    "clean_archive.loc[clean_archive.index == 763, 'rating_numerator'] = 11.27\n",
    "clean_archive.loc[clean_archive.index == 1689, 'rating_numerator'] = 9.5\n",
    "clean_archive.loc[clean_archive.index == 1712, 'rating_numerator'] = 11.26"
   ]
  },
  {
   "cell_type": "code",
   "execution_count": 161,
   "metadata": {},
   "outputs": [
    {
     "data": {
      "text/plain": [
       "tweet_id                                             883482846933004288\n",
       "timestamp                                           2017-07-08 00:28:19\n",
       "source                \"http://twitter.com/download/iphone\" rel=\"nofo...\n",
       "text                  This is Bella. She hopes her smile made you sm...\n",
       "expanded_urls         https://twitter.com/dog_rates/status/883482846...\n",
       "rating_numerator                                                   13.5\n",
       "rating_denominator                                                   10\n",
       "name                                                              bella\n",
       "doggo                                                               NaN\n",
       "floofer                                                             NaN\n",
       "pupper                                                              NaN\n",
       "puppo                                                               NaN\n",
       "Name: 45, dtype: object"
      ]
     },
     "execution_count": 161,
     "metadata": {},
     "output_type": "execute_result"
    }
   ],
   "source": [
    "# confirm \n",
    "clean_archive.loc[45]"
   ]
  },
  {
   "cell_type": "markdown",
   "metadata": {
    "nbpresent": {
     "id": "26aacf58-69d8-41b2-853a-ef2d5cdc48a1"
    }
   },
   "source": [
    "#### Dogs stage"
   ]
  },
  {
   "cell_type": "markdown",
   "metadata": {
    "nbpresent": {
     "id": "6821e2e8-9257-489e-824e-5f3dc1944849"
    }
   },
   "source": [
    "##### Create one column"
   ]
  },
  {
   "cell_type": "code",
   "execution_count": 162,
   "metadata": {
    "collapsed": true,
    "nbpresent": {
     "id": "acb6ae88-67ad-432b-8cfc-23b5845df30c"
    }
   },
   "outputs": [],
   "source": [
    "# function to create a column with all stage\n",
    "def dog_stage(row):\n",
    "    # list to store data\n",
    "    stage_list = []\n",
    "    # condition\n",
    "    if row['doggo'] == 'doggo':\n",
    "        # add to list\n",
    "        stage_list.append('doggo')\n",
    "    if row['floofer'] == 'floofer':\n",
    "        stage_list.append('floofer')\n",
    "    if row['pupper'] == 'pupper':\n",
    "        stage_list.append('pupper')\n",
    "    if row['puppo'] == 'puppo':\n",
    "        stage_list.append('puppo')\n",
    "    if len(stage_list) < 1: \n",
    "        row['stage'] = 'None'\n",
    "    else: \n",
    "        row['stage'] = ' and '.join(stage_list)\n",
    "    return row\n",
    "\n",
    "# Inspiration : https://chrisalbon.com/python/data_wrangling/pandas_create_column_with_loop/"
   ]
  },
  {
   "cell_type": "code",
   "execution_count": 163,
   "metadata": {
    "collapsed": true,
    "nbpresent": {
     "id": "abb24f00-23f2-422c-b38b-9a8428cf2110"
    }
   },
   "outputs": [],
   "source": [
    "# Apply to each row\n",
    "clean_archive = clean_archive.apply(dog_stage, axis=1)"
   ]
  },
  {
   "cell_type": "code",
   "execution_count": 164,
   "metadata": {
    "collapsed": true,
    "nbpresent": {
     "id": "b4f878a5-8091-4f56-92c5-2563a7037d09"
    }
   },
   "outputs": [],
   "source": [
    "# delete unnecessary row\n",
    "clean_archive = clean_archive.drop(['doggo', 'floofer', 'pupper', 'puppo'], axis=1)"
   ]
  },
  {
   "cell_type": "code",
   "execution_count": 165,
   "metadata": {
    "nbpresent": {
     "id": "8f812429-e120-400e-a7d3-fd7936b7b9aa"
    }
   },
   "outputs": [
    {
     "data": {
      "text/html": [
       "<div>\n",
       "<style>\n",
       "    .dataframe thead tr:only-child th {\n",
       "        text-align: right;\n",
       "    }\n",
       "\n",
       "    .dataframe thead th {\n",
       "        text-align: left;\n",
       "    }\n",
       "\n",
       "    .dataframe tbody tr th {\n",
       "        vertical-align: top;\n",
       "    }\n",
       "</style>\n",
       "<table border=\"1\" class=\"dataframe\">\n",
       "  <thead>\n",
       "    <tr style=\"text-align: right;\">\n",
       "      <th></th>\n",
       "      <th>tweet_id</th>\n",
       "      <th>timestamp</th>\n",
       "      <th>source</th>\n",
       "      <th>text</th>\n",
       "      <th>expanded_urls</th>\n",
       "      <th>rating_numerator</th>\n",
       "      <th>rating_denominator</th>\n",
       "      <th>name</th>\n",
       "      <th>stage</th>\n",
       "    </tr>\n",
       "  </thead>\n",
       "  <tbody>\n",
       "  </tbody>\n",
       "</table>\n",
       "</div>"
      ],
      "text/plain": [
       "Empty DataFrame\n",
       "Columns: [tweet_id, timestamp, source, text, expanded_urls, rating_numerator, rating_denominator, name, stage]\n",
       "Index: []"
      ]
     },
     "execution_count": 165,
     "metadata": {},
     "output_type": "execute_result"
    }
   ],
   "source": [
    "# confirm\n",
    "clean_archive.head(0)"
   ]
  },
  {
   "cell_type": "code",
   "execution_count": 166,
   "metadata": {
    "nbpresent": {
     "id": "986207d0-c625-48cb-890d-6e2432f1402f"
    }
   },
   "outputs": [
    {
     "data": {
      "text/html": [
       "<div>\n",
       "<style>\n",
       "    .dataframe thead tr:only-child th {\n",
       "        text-align: right;\n",
       "    }\n",
       "\n",
       "    .dataframe thead th {\n",
       "        text-align: left;\n",
       "    }\n",
       "\n",
       "    .dataframe tbody tr th {\n",
       "        vertical-align: top;\n",
       "    }\n",
       "</style>\n",
       "<table border=\"1\" class=\"dataframe\">\n",
       "  <thead>\n",
       "    <tr style=\"text-align: right;\">\n",
       "      <th></th>\n",
       "      <th>tweet_id</th>\n",
       "      <th>timestamp</th>\n",
       "      <th>source</th>\n",
       "      <th>text</th>\n",
       "      <th>expanded_urls</th>\n",
       "      <th>rating_numerator</th>\n",
       "      <th>rating_denominator</th>\n",
       "      <th>name</th>\n",
       "      <th>stage</th>\n",
       "    </tr>\n",
       "  </thead>\n",
       "  <tbody>\n",
       "    <tr>\n",
       "      <th>0</th>\n",
       "      <td>892420643555336193</td>\n",
       "      <td>2017-08-01 16:23:56</td>\n",
       "      <td>\"http://twitter.com/download/iphone\" rel=\"nofo...</td>\n",
       "      <td>This is Phineas. He's a mystical boy. Only eve...</td>\n",
       "      <td>https://twitter.com/dog_rates/status/892420643...</td>\n",
       "      <td>13.0</td>\n",
       "      <td>10</td>\n",
       "      <td>phineas</td>\n",
       "      <td>None</td>\n",
       "    </tr>\n",
       "    <tr>\n",
       "      <th>1</th>\n",
       "      <td>892177421306343426</td>\n",
       "      <td>2017-08-01 00:17:27</td>\n",
       "      <td>\"http://twitter.com/download/iphone\" rel=\"nofo...</td>\n",
       "      <td>This is Tilly. She's just checking pup on you....</td>\n",
       "      <td>https://twitter.com/dog_rates/status/892177421...</td>\n",
       "      <td>13.0</td>\n",
       "      <td>10</td>\n",
       "      <td>tilly</td>\n",
       "      <td>None</td>\n",
       "    </tr>\n",
       "    <tr>\n",
       "      <th>2</th>\n",
       "      <td>891815181378084864</td>\n",
       "      <td>2017-07-31 00:18:03</td>\n",
       "      <td>\"http://twitter.com/download/iphone\" rel=\"nofo...</td>\n",
       "      <td>This is Archie. He is a rare Norwegian Pouncin...</td>\n",
       "      <td>https://twitter.com/dog_rates/status/891815181...</td>\n",
       "      <td>12.0</td>\n",
       "      <td>10</td>\n",
       "      <td>archie</td>\n",
       "      <td>None</td>\n",
       "    </tr>\n",
       "    <tr>\n",
       "      <th>3</th>\n",
       "      <td>891689557279858688</td>\n",
       "      <td>2017-07-30 15:58:51</td>\n",
       "      <td>\"http://twitter.com/download/iphone\" rel=\"nofo...</td>\n",
       "      <td>This is Darla. She commenced a snooze mid meal...</td>\n",
       "      <td>https://twitter.com/dog_rates/status/891689557...</td>\n",
       "      <td>13.0</td>\n",
       "      <td>10</td>\n",
       "      <td>darla</td>\n",
       "      <td>None</td>\n",
       "    </tr>\n",
       "    <tr>\n",
       "      <th>4</th>\n",
       "      <td>891327558926688256</td>\n",
       "      <td>2017-07-29 16:00:24</td>\n",
       "      <td>\"http://twitter.com/download/iphone\" rel=\"nofo...</td>\n",
       "      <td>This is Franklin. He would like you to stop ca...</td>\n",
       "      <td>https://twitter.com/dog_rates/status/891327558...</td>\n",
       "      <td>12.0</td>\n",
       "      <td>10</td>\n",
       "      <td>franklin</td>\n",
       "      <td>None</td>\n",
       "    </tr>\n",
       "  </tbody>\n",
       "</table>\n",
       "</div>"
      ],
      "text/plain": [
       "             tweet_id           timestamp  \\\n",
       "0  892420643555336193 2017-08-01 16:23:56   \n",
       "1  892177421306343426 2017-08-01 00:17:27   \n",
       "2  891815181378084864 2017-07-31 00:18:03   \n",
       "3  891689557279858688 2017-07-30 15:58:51   \n",
       "4  891327558926688256 2017-07-29 16:00:24   \n",
       "\n",
       "                                              source  \\\n",
       "0  \"http://twitter.com/download/iphone\" rel=\"nofo...   \n",
       "1  \"http://twitter.com/download/iphone\" rel=\"nofo...   \n",
       "2  \"http://twitter.com/download/iphone\" rel=\"nofo...   \n",
       "3  \"http://twitter.com/download/iphone\" rel=\"nofo...   \n",
       "4  \"http://twitter.com/download/iphone\" rel=\"nofo...   \n",
       "\n",
       "                                                text  \\\n",
       "0  This is Phineas. He's a mystical boy. Only eve...   \n",
       "1  This is Tilly. She's just checking pup on you....   \n",
       "2  This is Archie. He is a rare Norwegian Pouncin...   \n",
       "3  This is Darla. She commenced a snooze mid meal...   \n",
       "4  This is Franklin. He would like you to stop ca...   \n",
       "\n",
       "                                       expanded_urls  rating_numerator  \\\n",
       "0  https://twitter.com/dog_rates/status/892420643...              13.0   \n",
       "1  https://twitter.com/dog_rates/status/892177421...              13.0   \n",
       "2  https://twitter.com/dog_rates/status/891815181...              12.0   \n",
       "3  https://twitter.com/dog_rates/status/891689557...              13.0   \n",
       "4  https://twitter.com/dog_rates/status/891327558...              12.0   \n",
       "\n",
       "   rating_denominator      name stage  \n",
       "0                  10   phineas  None  \n",
       "1                  10     tilly  None  \n",
       "2                  10    archie  None  \n",
       "3                  10     darla  None  \n",
       "4                  10  franklin  None  "
      ]
     },
     "execution_count": 166,
     "metadata": {},
     "output_type": "execute_result"
    }
   ],
   "source": [
    "clean_archive.head()"
   ]
  },
  {
   "cell_type": "markdown",
   "metadata": {
    "nbpresent": {
     "id": "6fd560d7-c603-4ad7-88f9-1563fc068178"
    }
   },
   "source": [
    "##### Observe text when dog have two stages"
   ]
  },
  {
   "cell_type": "code",
   "execution_count": 167,
   "metadata": {
    "nbpresent": {
     "id": "06ac553f-b06c-4e86-b5fb-ca2015521e68"
    }
   },
   "outputs": [
    {
     "name": "stdout",
     "output_type": "stream",
     "text": [
      "191 doggo and puppo \n",
      " \n",
      " Here's a puppo participating in the #ScienceMarch. Cleverly disguising her own doggo agenda. 13/10 would keep the planet habitable for https://t.co/cMhq16isel \n",
      " \n",
      "\n",
      "200 doggo and floofer \n",
      " \n",
      " At first I thought this was a shy doggo, but it's actually a Rare Canadian Floofer Owl. Amateurs would confuse the two. 11/10 only send dogs https://t.co/TXdT3tmuYk \n",
      " \n",
      "\n",
      "460 doggo and pupper \n",
      " \n",
      " This is Dido. She's playing the lead role in \"Pupper Stops to Catch Snow Before Resuming Shadow Box with Dried Apple.\" 13/10 (IG: didodoggo) https://t.co/m7isZrOBX7 \n",
      " \n",
      "\n",
      "531 doggo and pupper \n",
      " \n",
      " Here we have Burke (pupper) and Dexter (doggo). Pupper wants to be exactly like doggo. Both 12/10 would pet at same time https://t.co/ANBpEYHaho \n",
      " \n",
      "\n",
      "575 doggo and pupper \n",
      " \n",
      " This is Bones. He's being haunted by another doggo of roughly the same size. 12/10 deep breaths pupper everything's fine https://t.co/55Dqe0SJNj \n",
      " \n",
      "\n",
      "705 doggo and pupper \n",
      " \n",
      " This is Pinot. He's a sophisticated doggo. You can tell by the hat. Also pointier than your average pupper. Still 10/10 would pet cautiously https://t.co/f2wmLZTPHd \n",
      " \n",
      "\n",
      "733 doggo and pupper \n",
      " \n",
      " Pupper butt 1, Doggo 0. Both 12/10 https://t.co/WQvcPEpH2u \n",
      " \n",
      "\n",
      "889 doggo and pupper \n",
      " \n",
      " Meet Maggie &amp; Lila. Maggie is the doggo, Lila is the pupper. They are sisters. Both 12/10 would pet at the same time https://t.co/MYwR4DQKll \n",
      " \n",
      "\n",
      "956 doggo and pupper \n",
      " \n",
      " Please stop sending it pictures that don't even have a doggo or pupper in them. Churlish af. 5/10 neat couch tho https://t.co/u2c9c7qSg8 \n",
      " \n",
      "\n",
      "1063 doggo and pupper \n",
      " \n",
      " This is just downright precious af. 12/10 for both pupper and doggo https://t.co/o5J479bZUC \n",
      " \n",
      "\n",
      "1113 doggo and pupper \n",
      " \n",
      " Like father (doggo), like son (pupper). Both 12/10 https://t.co/pG2inLaOda \n",
      " \n",
      "\n"
     ]
    }
   ],
   "source": [
    "for index, row in clean_archive.iterrows():\n",
    "    if ' and ' in row['stage']:\n",
    "        print (index,row['stage'],'\\n','\\n',\n",
    "               row['text'],'\\n','\\n')"
   ]
  },
  {
   "cell_type": "markdown",
   "metadata": {
    "nbpresent": {
     "id": "28e6baf2-8b93-4bfa-a710-739cf01f6d00"
    }
   },
   "source": [
    "191 doggo,puppo correction puppo\n",
    "\n",
    "200 doggo,floofer correction floofer\n",
    "\n",
    "460 doggo,pupper correction pupper\n",
    "\n",
    "*** 531 doggo,pupper correct ***\n",
    "\n",
    "575 doggo,pupper correction doggo\n",
    "\n",
    "705 doggo,pupper correction doggo\n",
    "\n",
    "*** 733 doggo,pupper correct ***\n",
    "\n",
    "*** 889 doggo,pupper correct ***\n",
    "\n",
    "956 doggo,pupper correction NaN\n",
    "\n",
    "*** 1063 doggo,pupper correct ***\n",
    "\n",
    "*** 1113 doggo,pupper correct ***\n"
   ]
  },
  {
   "cell_type": "code",
   "execution_count": 168,
   "metadata": {
    "collapsed": true,
    "nbpresent": {
     "id": "36b6db0a-8da3-442a-9b71-c2b7761222f6"
    }
   },
   "outputs": [],
   "source": [
    "# manual correction\n",
    "clean_archive.loc[clean_archive.index == 191, 'stage'] = 'puppo'\n",
    "clean_archive.loc[clean_archive.index == 200, 'stage'] = 'floofer'\n",
    "clean_archive.loc[clean_archive.index == 460, 'stage'] = 'pupper'\n",
    "clean_archive.loc[clean_archive.index == 575, 'stage'] = 'doggo'\n",
    "clean_archive.loc[clean_archive.index == 705, 'stage'] = 'doggo'\n",
    "clean_archive.loc[clean_archive.index == 956, 'stage'] = np.NaN"
   ]
  },
  {
   "cell_type": "code",
   "execution_count": 169,
   "metadata": {
    "collapsed": true,
    "nbpresent": {
     "id": "ea7794d6-8563-4e86-85b3-22ef881097d0"
    }
   },
   "outputs": [],
   "source": [
    "# transform None in NaN\n",
    "clean_archive['stage']=clean_archive['stage'].where(clean_archive['stage']!=word, np.NaN) "
   ]
  },
  {
   "cell_type": "code",
   "execution_count": 170,
   "metadata": {
    "nbpresent": {
     "id": "ebc25222-6905-45d1-8fa1-6e443056d6c7"
    }
   },
   "outputs": [
    {
     "name": "stdout",
     "output_type": "stream",
     "text": [
      "<class 'pandas.core.frame.DataFrame'>\n",
      "Int64Index: 2097 entries, 0 to 2355\n",
      "Data columns (total 9 columns):\n",
      "tweet_id              2097 non-null object\n",
      "timestamp             2097 non-null datetime64[ns]\n",
      "source                2097 non-null object\n",
      "text                  2097 non-null object\n",
      "expanded_urls         2097 non-null object\n",
      "rating_numerator      2097 non-null float64\n",
      "rating_denominator    2097 non-null int64\n",
      "name                  2012 non-null object\n",
      "stage                 335 non-null object\n",
      "dtypes: datetime64[ns](1), float64(1), int64(1), object(6)\n",
      "memory usage: 243.8+ KB\n"
     ]
    }
   ],
   "source": [
    "# confirm\n",
    "clean_archive.info()"
   ]
  },
  {
   "cell_type": "markdown",
   "metadata": {},
   "source": [
    "### 3.2 Cleaning image\n",
    "<a id='cleaning_image'></a>"
   ]
  },
  {
   "cell_type": "markdown",
   "metadata": {
    "nbpresent": {
     "id": "ac079ac6-07a3-4367-bd68-d8743d7257cc"
    }
   },
   "source": [
    "#### Convert tweet id to string"
   ]
  },
  {
   "cell_type": "code",
   "execution_count": 171,
   "metadata": {
    "collapsed": true
   },
   "outputs": [],
   "source": [
    "clean_image['tweet_id']=clean_image['tweet_id'].astype(str)"
   ]
  },
  {
   "cell_type": "code",
   "execution_count": 172,
   "metadata": {},
   "outputs": [
    {
     "name": "stdout",
     "output_type": "stream",
     "text": [
      "<class 'pandas.core.frame.DataFrame'>\n",
      "RangeIndex: 2075 entries, 0 to 2074\n",
      "Data columns (total 12 columns):\n",
      "tweet_id    2075 non-null object\n",
      "jpg_url     2075 non-null object\n",
      "img_num     2075 non-null int64\n",
      "p1          2075 non-null object\n",
      "p1_conf     2075 non-null float64\n",
      "p1_dog      2075 non-null bool\n",
      "p2          2075 non-null object\n",
      "p2_conf     2075 non-null float64\n",
      "p2_dog      2075 non-null bool\n",
      "p3          2075 non-null object\n",
      "p3_conf     2075 non-null float64\n",
      "p3_dog      2075 non-null bool\n",
      "dtypes: bool(3), float64(3), int64(1), object(5)\n",
      "memory usage: 152.1+ KB\n"
     ]
    }
   ],
   "source": [
    "clean_image.info()"
   ]
  },
  {
   "cell_type": "markdown",
   "metadata": {
    "nbpresent": {
     "id": "064d3c85-c075-4db1-9963-bbe321e6da6b"
    }
   },
   "source": [
    "##### Inconsistent writing"
   ]
  },
  {
   "cell_type": "code",
   "execution_count": 173,
   "metadata": {
    "collapsed": true,
    "nbpresent": {
     "id": "78410b56-10c7-4f2f-8e00-211ce167a910"
    }
   },
   "outputs": [],
   "source": [
    "# fix \n",
    "clean_image['p1'] = clean_image['p1'].str.lower()\n",
    "clean_image['p2'] = clean_image['p2'].str.lower()\n",
    "clean_image['p3'] = clean_image['p3'].str.lower()"
   ]
  },
  {
   "cell_type": "code",
   "execution_count": 174,
   "metadata": {
    "nbpresent": {
     "id": "f5979978-f6c0-4885-9210-8d6bd8fff268"
    }
   },
   "outputs": [
    {
     "data": {
      "text/html": [
       "<div>\n",
       "<style>\n",
       "    .dataframe thead tr:only-child th {\n",
       "        text-align: right;\n",
       "    }\n",
       "\n",
       "    .dataframe thead th {\n",
       "        text-align: left;\n",
       "    }\n",
       "\n",
       "    .dataframe tbody tr th {\n",
       "        vertical-align: top;\n",
       "    }\n",
       "</style>\n",
       "<table border=\"1\" class=\"dataframe\">\n",
       "  <thead>\n",
       "    <tr style=\"text-align: right;\">\n",
       "      <th></th>\n",
       "      <th>tweet_id</th>\n",
       "      <th>jpg_url</th>\n",
       "      <th>img_num</th>\n",
       "      <th>p1</th>\n",
       "      <th>p1_conf</th>\n",
       "      <th>p1_dog</th>\n",
       "      <th>p2</th>\n",
       "      <th>p2_conf</th>\n",
       "      <th>p2_dog</th>\n",
       "      <th>p3</th>\n",
       "      <th>p3_conf</th>\n",
       "      <th>p3_dog</th>\n",
       "    </tr>\n",
       "  </thead>\n",
       "  <tbody>\n",
       "    <tr>\n",
       "      <th>0</th>\n",
       "      <td>666020888022790149</td>\n",
       "      <td>https://pbs.twimg.com/media/CT4udn0WwAA0aMy.jpg</td>\n",
       "      <td>1</td>\n",
       "      <td>welsh_springer_spaniel</td>\n",
       "      <td>0.465074</td>\n",
       "      <td>True</td>\n",
       "      <td>collie</td>\n",
       "      <td>0.156665</td>\n",
       "      <td>True</td>\n",
       "      <td>shetland_sheepdog</td>\n",
       "      <td>0.061428</td>\n",
       "      <td>True</td>\n",
       "    </tr>\n",
       "    <tr>\n",
       "      <th>1</th>\n",
       "      <td>666029285002620928</td>\n",
       "      <td>https://pbs.twimg.com/media/CT42GRgUYAA5iDo.jpg</td>\n",
       "      <td>1</td>\n",
       "      <td>redbone</td>\n",
       "      <td>0.506826</td>\n",
       "      <td>True</td>\n",
       "      <td>miniature_pinscher</td>\n",
       "      <td>0.074192</td>\n",
       "      <td>True</td>\n",
       "      <td>rhodesian_ridgeback</td>\n",
       "      <td>0.072010</td>\n",
       "      <td>True</td>\n",
       "    </tr>\n",
       "    <tr>\n",
       "      <th>2</th>\n",
       "      <td>666033412701032449</td>\n",
       "      <td>https://pbs.twimg.com/media/CT4521TWwAEvMyu.jpg</td>\n",
       "      <td>1</td>\n",
       "      <td>german_shepherd</td>\n",
       "      <td>0.596461</td>\n",
       "      <td>True</td>\n",
       "      <td>malinois</td>\n",
       "      <td>0.138584</td>\n",
       "      <td>True</td>\n",
       "      <td>bloodhound</td>\n",
       "      <td>0.116197</td>\n",
       "      <td>True</td>\n",
       "    </tr>\n",
       "    <tr>\n",
       "      <th>3</th>\n",
       "      <td>666044226329800704</td>\n",
       "      <td>https://pbs.twimg.com/media/CT5Dr8HUEAA-lEu.jpg</td>\n",
       "      <td>1</td>\n",
       "      <td>rhodesian_ridgeback</td>\n",
       "      <td>0.408143</td>\n",
       "      <td>True</td>\n",
       "      <td>redbone</td>\n",
       "      <td>0.360687</td>\n",
       "      <td>True</td>\n",
       "      <td>miniature_pinscher</td>\n",
       "      <td>0.222752</td>\n",
       "      <td>True</td>\n",
       "    </tr>\n",
       "    <tr>\n",
       "      <th>4</th>\n",
       "      <td>666049248165822465</td>\n",
       "      <td>https://pbs.twimg.com/media/CT5IQmsXIAAKY4A.jpg</td>\n",
       "      <td>1</td>\n",
       "      <td>miniature_pinscher</td>\n",
       "      <td>0.560311</td>\n",
       "      <td>True</td>\n",
       "      <td>rottweiler</td>\n",
       "      <td>0.243682</td>\n",
       "      <td>True</td>\n",
       "      <td>doberman</td>\n",
       "      <td>0.154629</td>\n",
       "      <td>True</td>\n",
       "    </tr>\n",
       "  </tbody>\n",
       "</table>\n",
       "</div>"
      ],
      "text/plain": [
       "             tweet_id                                          jpg_url  \\\n",
       "0  666020888022790149  https://pbs.twimg.com/media/CT4udn0WwAA0aMy.jpg   \n",
       "1  666029285002620928  https://pbs.twimg.com/media/CT42GRgUYAA5iDo.jpg   \n",
       "2  666033412701032449  https://pbs.twimg.com/media/CT4521TWwAEvMyu.jpg   \n",
       "3  666044226329800704  https://pbs.twimg.com/media/CT5Dr8HUEAA-lEu.jpg   \n",
       "4  666049248165822465  https://pbs.twimg.com/media/CT5IQmsXIAAKY4A.jpg   \n",
       "\n",
       "   img_num                      p1   p1_conf  p1_dog                  p2  \\\n",
       "0        1  welsh_springer_spaniel  0.465074    True              collie   \n",
       "1        1                 redbone  0.506826    True  miniature_pinscher   \n",
       "2        1         german_shepherd  0.596461    True            malinois   \n",
       "3        1     rhodesian_ridgeback  0.408143    True             redbone   \n",
       "4        1      miniature_pinscher  0.560311    True          rottweiler   \n",
       "\n",
       "    p2_conf  p2_dog                   p3   p3_conf  p3_dog  \n",
       "0  0.156665    True    shetland_sheepdog  0.061428    True  \n",
       "1  0.074192    True  rhodesian_ridgeback  0.072010    True  \n",
       "2  0.138584    True           bloodhound  0.116197    True  \n",
       "3  0.360687    True   miniature_pinscher  0.222752    True  \n",
       "4  0.243682    True             doberman  0.154629    True  "
      ]
     },
     "execution_count": 174,
     "metadata": {},
     "output_type": "execute_result"
    }
   ],
   "source": [
    "# confirm\n",
    "clean_image.head()"
   ]
  },
  {
   "cell_type": "markdown",
   "metadata": {
    "nbpresent": {
     "id": "ce72e988-53ca-4057-ab14-c8b7b9ad1890"
    }
   },
   "source": [
    "##### Dog or not column"
   ]
  },
  {
   "cell_type": "code",
   "execution_count": 175,
   "metadata": {
    "collapsed": true,
    "nbpresent": {
     "id": "76e5ba19-f01f-40fa-80fb-6adf8ead9516"
    }
   },
   "outputs": [],
   "source": [
    "# create new column\n",
    "clean_image['dog']=image_2['no_dog'].apply(lambda x: False if x==3 else True )"
   ]
  },
  {
   "cell_type": "code",
   "execution_count": 176,
   "metadata": {
    "nbpresent": {
     "id": "80b2fee3-c746-4d46-b612-bd9fc9db50f9"
    }
   },
   "outputs": [
    {
     "name": "stdout",
     "output_type": "stream",
     "text": [
      "0    True\n",
      "1    True\n",
      "2    True\n",
      "3    True\n",
      "4    True\n",
      "Name: dog, dtype: bool False\n"
     ]
    }
   ],
   "source": [
    "# confirm\n",
    "print(clean_image['dog'].head(),clean_image['dog'][17])"
   ]
  },
  {
   "cell_type": "markdown",
   "metadata": {},
   "source": [
    "### 3.3 Cleaning info\n",
    "<a id='cleaning_info'></a>"
   ]
  },
  {
   "cell_type": "code",
   "execution_count": 178,
   "metadata": {},
   "outputs": [
    {
     "name": "stdout",
     "output_type": "stream",
     "text": [
      "<class 'pandas.core.frame.DataFrame'>\n",
      "RangeIndex: 2345 entries, 0 to 2344\n",
      "Data columns (total 3 columns):\n",
      "favorite_count    2345 non-null int64\n",
      "id                2345 non-null object\n",
      "retweet_count     2345 non-null int64\n",
      "dtypes: int64(2), object(1)\n",
      "memory usage: 55.0+ KB\n"
     ]
    }
   ],
   "source": [
    "# convert id to str\n",
    "clean_info['id']=clean_info['id'].astype(str)\n",
    "\n",
    "# confim\n",
    "clean_info.info()\n"
   ]
  },
  {
   "cell_type": "markdown",
   "metadata": {
    "nbpresent": {
     "id": "05a3ad0b-c56b-4824-b724-2db2651bfbcf"
    }
   },
   "source": [
    "### 3.4 Merging data\n",
    "<a id='merging_data'></a>"
   ]
  },
  {
   "cell_type": "markdown",
   "metadata": {
    "nbpresent": {
     "id": "6270de7c-7fec-4a58-b7a2-61298a157fba"
    }
   },
   "source": [
    "##### Merge and suppress row without image"
   ]
  },
  {
   "cell_type": "code",
   "execution_count": 179,
   "metadata": {
    "collapsed": true,
    "nbpresent": {
     "id": "ca140037-47fc-4ba3-8da9-33c6eb2e4f35"
    }
   },
   "outputs": [],
   "source": [
    "# merge by id with image \n",
    "\n",
    "df_final = clean_image.merge(clean_archive, left_on='tweet_id',right_on='tweet_id',how='inner')\n",
    "df_final = df_final.merge(clean_info,left_on='tweet_id',right_on='id',how='inner')\n",
    "\n",
    "# suppress unnecessary column\n",
    "df_final = df_final.drop(['id'], axis=1)"
   ]
  },
  {
   "cell_type": "code",
   "execution_count": 180,
   "metadata": {
    "nbpresent": {
     "id": "c6f7fc99-76cd-42e0-be1a-77c24447a101"
    }
   },
   "outputs": [
    {
     "data": {
      "text/plain": [
       "Index(['tweet_id', 'jpg_url', 'img_num', 'p1', 'p1_conf', 'p1_dog', 'p2',\n",
       "       'p2_conf', 'p2_dog', 'p3', 'p3_conf', 'p3_dog', 'dog', 'timestamp',\n",
       "       'source', 'text', 'expanded_urls', 'rating_numerator',\n",
       "       'rating_denominator', 'name', 'stage', 'favorite_count',\n",
       "       'retweet_count'],\n",
       "      dtype='object')"
      ]
     },
     "execution_count": 180,
     "metadata": {},
     "output_type": "execute_result"
    }
   ],
   "source": [
    "# confirm\n",
    "df_final.columns"
   ]
  },
  {
   "cell_type": "markdown",
   "metadata": {
    "nbpresent": {
     "id": "e02b2be3-823e-49f0-96ce-ae50a8a9b7b3"
    }
   },
   "source": [
    "##### Store data"
   ]
  },
  {
   "cell_type": "code",
   "execution_count": 181,
   "metadata": {
    "collapsed": true,
    "nbpresent": {
     "id": "002227dc-11bd-4e23-9a17-2e3872eaf315"
    }
   },
   "outputs": [],
   "source": [
    "# store data \n",
    "df_final.to_csv('data/twitter_archive_master.csv',index=False)"
   ]
  },
  {
   "cell_type": "markdown",
   "metadata": {
    "nbpresent": {
     "id": "b82768fc-00b4-4c7d-a9e4-c5bdfbc7afea"
    }
   },
   "source": [
    "*** Archive ***\n",
    "- Suppress rows with retweet and non-necessary columns\n",
    "    - rows have to be suppress if the value is non-null to conserve only original tweets for the following coulumns : in_reply_to_status_id, in_reply_to_user_id, retweeted_status_id, retweeted_status_user_id, retweeted_statud_timestamp\n",
    "- Suppress html residues in source\n",
    "    - source has html residues\n",
    "- Convert timestamp to datetime\n",
    "    - timestamp have to be convert into datetime to be exploitable\n",
    "- Convert tweet_id to string\n",
    "- Suppress stop words in name\n",
    "    - name column have stop words\n",
    "- Name in lower case\n",
    "- Change 'None' string by NaN\n",
    "    - name column have 745 None string\n",
    "    - doggo, floofer, pupper and puppo have None string\n",
    "- Generate Urls to remplace and correct double links\n",
    "    - 639 double links in expanded_urls\n",
    "    - missing expanded urls\n",
    "- fixing numerator and denominator\n",
    "    - validate when no problem of scrapping (irrationnal)\n",
    "    - change when scrapping error (including decimal)\n",
    "- dogs stage\n",
    "    - create one variable\n",
    "    - correct double stage when is needed\n",
    "\n",
    "*** Image ***\n",
    "- p1, p2, p3 have inconsistent writing, fixed \n",
    "\n",
    "- in 324 rows no dogs is recognized\n",
    "    - to observe impact = tweet sympathetic, so just a column \n",
    "\n",
    "*** Global *** \n",
    "- we need to have the same len for each document\n",
    "- we need to have one dataframe\n",
    "    - Merge and suppress row without image\n",
    "- store data in 'data/twitter_archive_master.csv'"
   ]
  },
  {
   "cell_type": "markdown",
   "metadata": {
    "nbpresent": {
     "id": "66a90323-f687-4c20-b62d-1e25f5b72565"
    }
   },
   "source": [
    "# 4. Investigating Data\n",
    "<a id='investigating_data'></a>"
   ]
  },
  {
   "cell_type": "markdown",
   "metadata": {
    "nbpresent": {
     "id": "20b6989c-1f96-4a92-8485-22919508a2f1"
    }
   },
   "source": [
    "Goal : understand what influence sharing"
   ]
  },
  {
   "cell_type": "code",
   "execution_count": 182,
   "metadata": {
    "collapsed": true,
    "nbpresent": {
     "id": "f72c6ea8-68c5-47a0-80f3-3d21d4518cde"
    }
   },
   "outputs": [],
   "source": [
    "# copy dataframe\n",
    "df = df_final.copy()"
   ]
  },
  {
   "cell_type": "markdown",
   "metadata": {
    "nbpresent": {
     "id": "0bd74dd0-0444-419c-8a82-17946fc02708"
    }
   },
   "source": [
    "### Sub-sections\n",
    "\n",
    "<a href='#global'>4.1 Global information on sharing</a> \n",
    "\n",
    "<a href='#variable'>4.2 Visualize variables </a>"
   ]
  },
  {
   "cell_type": "markdown",
   "metadata": {
    "nbpresent": {
     "id": "9d174eeb-4249-4e83-aaa9-62f97d8e67ad"
    }
   },
   "source": [
    "### 4.1 Global information on sharing\n",
    "<a id='global'></a>"
   ]
  },
  {
   "cell_type": "code",
   "execution_count": 183,
   "metadata": {
    "nbpresent": {
     "id": "09029ee3-2b56-43b1-aabe-27f876c91ffa"
    }
   },
   "outputs": [
    {
     "data": {
      "text/plain": [
       "count     1971.000000\n",
       "mean      2756.426687\n",
       "std       4749.089405\n",
       "min         13.000000\n",
       "25%        614.500000\n",
       "50%       1336.000000\n",
       "75%       3163.500000\n",
       "max      77886.000000\n",
       "Name: retweet_count, dtype: float64"
      ]
     },
     "execution_count": 183,
     "metadata": {},
     "output_type": "execute_result"
    }
   ],
   "source": [
    "# describe retweet variable\n",
    "df['retweet_count'].describe()"
   ]
  },
  {
   "cell_type": "code",
   "execution_count": 184,
   "metadata": {
    "nbpresent": {
     "id": "d8a6727d-2017-4127-9c97-66399f922f0b"
    }
   },
   "outputs": [
    {
     "name": "stdout",
     "output_type": "stream",
     "text": [
      "index:  16 \n",
      " \n",
      " tweet_id                                             666102155909144576\n",
      "jpg_url                 https://pbs.twimg.com/media/CT54YGiWUAEZnoK.jpg\n",
      "img_num                                                               1\n",
      "p1                                                       english_setter\n",
      "p1_conf                                                        0.298617\n",
      "p1_dog                                                             True\n",
      "p2                                                         newfoundland\n",
      "p2_conf                                                        0.149842\n",
      "p2_dog                                                             True\n",
      "p3                                                               borzoi\n",
      "p3_conf                                                        0.133649\n",
      "p3_dog                                                             True\n",
      "dog                                                                True\n",
      "timestamp                                           2015-11-16 03:55:04\n",
      "source                \"http://twitter.com/download/iphone\" rel=\"nofo...\n",
      "text                  Oh my. Here you are seeing an Adobe Setter giv...\n",
      "expanded_urls         https://twitter.com/dog_rates/status/666102155...\n",
      "rating_numerator                                                     11\n",
      "rating_denominator                                                   10\n",
      "name                                                               none\n",
      "stage                                                               NaN\n",
      "favorite_count                                                       80\n",
      "retweet_count                                                        13\n",
      "Name: 16, dtype: object \n",
      " \n",
      "\n"
     ]
    }
   ],
   "source": [
    "# print row for minimum retweet \n",
    "for index, row in df.iterrows():\n",
    "    if row['retweet_count']==13:\n",
    "        print ('index: ',index,'\\n','\\n',\n",
    "               row,'\\n','\\n',\n",
    "              )"
   ]
  },
  {
   "cell_type": "markdown",
   "metadata": {
    "nbpresent": {
     "id": "136260cf-de65-4da1-ae7b-ec5ff7db09ae"
    }
   },
   "source": [
    "# Image of the tweet\n",
    "![Pictures of the tweet](https://pbs.twimg.com/media/CT54YGiWUAEZnoK.jpg)"
   ]
  },
  {
   "cell_type": "code",
   "execution_count": 185,
   "metadata": {
    "collapsed": true,
    "nbpresent": {
     "id": "37367139-fcbc-401d-a1cf-94baaf547ac2"
    }
   },
   "outputs": [],
   "source": [
    "# print row for maximum retweet \n",
    "for index, row in df.iterrows():\n",
    "    if row['retweet_count']==77996:\n",
    "        print ('index: ',index,'\\n','\\n',\n",
    "               row,'\\n','\\n',\n",
    "              )"
   ]
  },
  {
   "cell_type": "markdown",
   "metadata": {
    "nbpresent": {
     "id": "ee946225-d052-473f-b3b9-29808b52b567"
    }
   },
   "source": [
    "# Image of the tweet\n",
    "![Pictures of the tweet](https://pbs.twimg.com/ext_tw_video_thumb/744234667679821824/pu/img/1GaWmtJtdqzZV7jy.jpg)"
   ]
  },
  {
   "cell_type": "code",
   "execution_count": 186,
   "metadata": {
    "nbpresent": {
     "id": "215b12db-98f5-40e6-ae99-fab4a5376172"
    }
   },
   "outputs": [
    {
     "data": {
      "image/png": "[encoded data removed]",
      "text/plain": [
       "<matplotlib.figure.Figure at 0x1a11126ba8>"
      ]
     },
     "metadata": {},
     "output_type": "display_data"
    }
   ],
   "source": [
    "# evolution of sharing \n",
    "df_plot=df.copy()\n",
    "\n",
    "#set date as indexe'\n",
    "df_plot.set_index('timestamp',inplace=True)\n",
    "\n",
    "#set ggplot style\n",
    "plt.style.use('ggplot')\n",
    "\n",
    "#plot data\n",
    "fig, ax = plt.subplots(figsize=(15,7))\n",
    "ax.bar(df_plot.index, df_plot['retweet_count'],width=5)\n",
    "\n",
    "\n",
    "#set ticks every week\n",
    "ax.xaxis.set_major_locator(mdates.MonthLocator())\n",
    "\n",
    "#set major ticks format\n",
    "ax.xaxis.set_major_formatter(mdates.DateFormatter('%b'))\n",
    "\n",
    "# set title\n",
    "ax.set_title('Number of retweets through time')\n",
    "ax.set_xlabel('Month')\n",
    "ax.set_ylabel('Retweet')\n",
    "\n",
    "# save\n",
    "fig.savefig('data/retweets_through_time.png')\n",
    "\n",
    "# inspiration : https://scentellegher.github.io/programming/2017/05/24/pandas-bar-plot-with-formatted-dates.html"
   ]
  },
  {
   "cell_type": "markdown",
   "metadata": {
    "nbpresent": {
     "id": "d763eeb4-8486-464a-89e6-55cfabeefbc4"
    }
   },
   "source": [
    "### 4.2 Visualize variables\n",
    "<a id='variable'></a>"
   ]
  },
  {
   "cell_type": "markdown",
   "metadata": {
    "nbpresent": {
     "id": "880bce56-9267-4562-89ed-17bffde78dd1"
    }
   },
   "source": [
    "##### Remove outlier"
   ]
  },
  {
   "cell_type": "code",
   "execution_count": 187,
   "metadata": {
    "collapsed": true,
    "nbpresent": {
     "id": "61363519-5bad-40cd-bda7-c183905d7565"
    }
   },
   "outputs": [],
   "source": [
    "# function to supress outlier\n",
    "def cut_the_tail(dataframe, column):\n",
    "    '''\n",
    "    the function take a dataframe and a column as argument \n",
    "    cut the outlier of the dataframe\n",
    "    and return the new dataframe shape\n",
    "    '''\n",
    "    quantile_75 = dataframe[column].quantile(0.75)\n",
    "    quantile_25 = dataframe[column].quantile(0.25)\n",
    "    IQR = quantile_75 - quantile_25\n",
    "    outlier_1 = quantile_25 - 1.5*IQR\n",
    "    outlier_2 = quantile_75 + 1.5*IQR\n",
    "    dataframe = dataframe.loc[((dataframe[column] > outlier_1) & (dataframe[column] < outlier_2))]\n",
    "    return dataframe"
   ]
  },
  {
   "cell_type": "code",
   "execution_count": 188,
   "metadata": {
    "collapsed": true,
    "nbpresent": {
     "id": "18dc4e6a-c22d-41e4-99ac-54c0e11704a5"
    }
   },
   "outputs": [],
   "source": [
    "# apply function to our dataframe\n",
    "df = cut_the_tail(df,'retweet_count')"
   ]
  },
  {
   "cell_type": "code",
   "execution_count": 189,
   "metadata": {
    "nbpresent": {
     "id": "c921dd7d-789b-42f5-9472-562b552bd31d"
    }
   },
   "outputs": [
    {
     "data": {
      "text/plain": [
       "(1818, 23)"
      ]
     },
     "execution_count": 189,
     "metadata": {},
     "output_type": "execute_result"
    }
   ],
   "source": [
    "# confirme\n",
    "df.shape"
   ]
  },
  {
   "cell_type": "markdown",
   "metadata": {},
   "source": [
    "##### Describe without outlier"
   ]
  },
  {
   "cell_type": "code",
   "execution_count": 190,
   "metadata": {
    "nbpresent": {
     "id": "6984797e-365e-448b-a1e6-cdaee3bac621"
    }
   },
   "outputs": [
    {
     "data": {
      "text/plain": [
       "count    1818.000000\n",
       "mean     1771.383938\n",
       "std      1600.568141\n",
       "min        13.000000\n",
       "25%       581.000000\n",
       "50%      1204.000000\n",
       "75%      2527.000000\n",
       "max      6975.000000\n",
       "Name: retweet_count, dtype: float64"
      ]
     },
     "execution_count": 190,
     "metadata": {},
     "output_type": "execute_result"
    }
   ],
   "source": [
    "# new description\n",
    "df['retweet_count'].describe()"
   ]
  },
  {
   "cell_type": "markdown",
   "metadata": {
    "nbpresent": {
     "id": "54e08526-0f31-4d46-91d7-f10b571ab024"
    }
   },
   "source": [
    "##### Hours and retweets"
   ]
  },
  {
   "cell_type": "code",
   "execution_count": 191,
   "metadata": {
    "nbpresent": {
     "id": "dd690d73-751a-4a70-bc19-58906e232b51"
    }
   },
   "outputs": [
    {
     "data": {
      "image/png": "[encoded data removed]",
      "text/plain": [
       "<matplotlib.figure.Figure at 0x1a1118c668>"
      ]
     },
     "metadata": {},
     "output_type": "display_data"
    }
   ],
   "source": [
    "# create copy\n",
    "df_hour = df.copy()\n",
    "\n",
    "# create hours column\n",
    "df_hour['hour'] = df_hour['timestamp'].apply(lambda x: x.hour)\n",
    "\n",
    "# plot data\n",
    "g=sns.barplot( x=\"hour\", y=\"retweet_count\", data=df_hour,estimator=median)\n",
    "g.set_xlabel('Hours')\n",
    "\n",
    "# set title\n",
    "plt.title('Hours and retweets')\n",
    "plt.ylabel('Retweet Count Median')\n",
    "\n",
    "# save figure\n",
    "fig =g.get_figure()\n",
    "fig.savefig('data/hours_and_retweets.png')\n",
    "\n",
    "# inspiration: https://seaborn.pydata.org/generated/seaborn.barplot.html"
   ]
  },
  {
   "cell_type": "markdown",
   "metadata": {},
   "source": [
    "##### Days and retweets"
   ]
  },
  {
   "cell_type": "code",
   "execution_count": 192,
   "metadata": {
    "nbpresent": {
     "id": "60003ebd-2845-494a-8834-56d89d3d9c5b"
    }
   },
   "outputs": [
    {
     "data": {
      "image/png": "[encoded data removed]",
      "text/plain": [
       "<matplotlib.figure.Figure at 0x1a12201c18>"
      ]
     },
     "metadata": {},
     "output_type": "display_data"
    }
   ],
   "source": [
    "# create copy\n",
    "df_day = df.copy()\n",
    "\n",
    "# create days column\n",
    "df_day['day'] = df_day['timestamp'].apply(lambda x: x.day)\n",
    "\n",
    "# plot data\n",
    "g=sns.barplot( x=\"day\", y=\"retweet_count\", data=df_day,estimator=median)\n",
    "g.set_xlabel('days')\n",
    "\n",
    "# set title\n",
    "plt.title('Month and retweets')\n",
    "plt.ylabel('Retweet Count Median')\n",
    "\n",
    "# save\n",
    "fig =g.get_figure()\n",
    "fig.savefig('data/month_and_retweets.png')"
   ]
  },
  {
   "cell_type": "markdown",
   "metadata": {},
   "source": [
    "##### Weekdays and retweets"
   ]
  },
  {
   "cell_type": "code",
   "execution_count": 193,
   "metadata": {
    "nbpresent": {
     "id": "3403f1d4-6f5a-40e7-9d8e-6ecd744da9ac"
    }
   },
   "outputs": [
    {
     "data": {
      "image/png": "[encoded data removed]",
      "text/plain": [
       "<matplotlib.figure.Figure at 0x1a112d4a90>"
      ]
     },
     "metadata": {},
     "output_type": "display_data"
    }
   ],
   "source": [
    "# create copy\n",
    "df_weekday = df.copy()\n",
    "\n",
    "# create hours column\n",
    "df_weekday['weekday'] = df_weekday['timestamp'].apply(lambda x: x.weekday())\n",
    "\n",
    "# plot data\n",
    "g=sns.barplot( x=\"weekday\", y=\"retweet_count\", data=df_weekday,estimator=median)\n",
    "g.set_xlabel('Days')\n",
    "\n",
    "# set title\n",
    "plt.title('Days and retweets')\n",
    "plt.ylabel('Retweet Count Median')\n",
    "\n",
    "# save\n",
    "fig =g.get_figure()\n",
    "fig.savefig('data/days_and_retweets.png')"
   ]
  },
  {
   "cell_type": "markdown",
   "metadata": {},
   "source": [
    "##### Breeds and retweets"
   ]
  },
  {
   "cell_type": "code",
   "execution_count": 194,
   "metadata": {
    "nbpresent": {
     "id": "d17832a7-86f0-4a8d-9206-542c57b82c51"
    }
   },
   "outputs": [
    {
     "name": "stdout",
     "output_type": "stream",
     "text": [
      "number of dog breeds: 353\n"
     ]
    }
   ],
   "source": [
    "# copy dataframe\n",
    "df_breed = df.copy()\n",
    "# number of breed\n",
    "print('number of dog breeds:', df_breed['p1'].nunique())\n",
    "\n",
    "# frequency of breed\n",
    "df['p1'].value_counts()\n",
    "frequency = df['p1'].value_counts().to_dict()\n",
    "f= pd.DataFrame(list(frequency.items()), columns=['breed', 'frequency'])\n",
    "\n",
    "# frequency > 23\n",
    "f.drop(f[f.frequency < 23].index, inplace=True)"
   ]
  },
  {
   "cell_type": "code",
   "execution_count": 195,
   "metadata": {
    "nbpresent": {
     "id": "33173732-e4b4-45a6-9424-541241462191"
    }
   },
   "outputs": [
    {
     "data": {
      "text/html": [
       "<div>\n",
       "<style>\n",
       "    .dataframe thead tr:only-child th {\n",
       "        text-align: right;\n",
       "    }\n",
       "\n",
       "    .dataframe thead th {\n",
       "        text-align: left;\n",
       "    }\n",
       "\n",
       "    .dataframe tbody tr th {\n",
       "        vertical-align: top;\n",
       "    }\n",
       "</style>\n",
       "<table border=\"1\" class=\"dataframe\">\n",
       "  <thead>\n",
       "    <tr style=\"text-align: right;\">\n",
       "      <th></th>\n",
       "      <th>breed</th>\n",
       "      <th>frequency</th>\n",
       "      <th>total_retweet</th>\n",
       "    </tr>\n",
       "  </thead>\n",
       "  <tbody>\n",
       "    <tr>\n",
       "      <th>0</th>\n",
       "      <td>golden_retriever</td>\n",
       "      <td>119</td>\n",
       "      <td>270696</td>\n",
       "    </tr>\n",
       "    <tr>\n",
       "      <th>1</th>\n",
       "      <td>labrador_retriever</td>\n",
       "      <td>86</td>\n",
       "      <td>185610</td>\n",
       "    </tr>\n",
       "    <tr>\n",
       "      <th>2</th>\n",
       "      <td>pembroke</td>\n",
       "      <td>79</td>\n",
       "      <td>185093</td>\n",
       "    </tr>\n",
       "    <tr>\n",
       "      <th>3</th>\n",
       "      <td>chihuahua</td>\n",
       "      <td>72</td>\n",
       "      <td>111665</td>\n",
       "    </tr>\n",
       "    <tr>\n",
       "      <th>4</th>\n",
       "      <td>pug</td>\n",
       "      <td>52</td>\n",
       "      <td>77967</td>\n",
       "    </tr>\n",
       "  </tbody>\n",
       "</table>\n",
       "</div>"
      ],
      "text/plain": [
       "                breed  frequency  total_retweet\n",
       "0    golden_retriever        119         270696\n",
       "1  labrador_retriever         86         185610\n",
       "2            pembroke         79         185093\n",
       "3           chihuahua         72         111665\n",
       "4                 pug         52          77967"
      ]
     },
     "execution_count": 195,
     "metadata": {},
     "output_type": "execute_result"
    }
   ],
   "source": [
    "# create total retweet column\n",
    "total_retweet =[]\n",
    "for i in f['breed']:\n",
    "    t_r = df[df['p1'] == i]['retweet_count'].sum()\n",
    "    total_retweet.append(t_r)\n",
    "\n",
    "f['total_retweet']=total_retweet\n",
    "f.head()"
   ]
  },
  {
   "cell_type": "code",
   "execution_count": 196,
   "metadata": {
    "nbpresent": {
     "id": "6a1e3158-1400-41a0-8fe8-581a694996c9"
    }
   },
   "outputs": [
    {
     "data": {
      "text/html": [
       "<div>\n",
       "<style>\n",
       "    .dataframe thead tr:only-child th {\n",
       "        text-align: right;\n",
       "    }\n",
       "\n",
       "    .dataframe thead th {\n",
       "        text-align: left;\n",
       "    }\n",
       "\n",
       "    .dataframe tbody tr th {\n",
       "        vertical-align: top;\n",
       "    }\n",
       "</style>\n",
       "<table border=\"1\" class=\"dataframe\">\n",
       "  <thead>\n",
       "    <tr style=\"text-align: right;\">\n",
       "      <th></th>\n",
       "      <th>breed</th>\n",
       "      <th>frequency</th>\n",
       "      <th>total_retweet</th>\n",
       "      <th>retweet_mean</th>\n",
       "    </tr>\n",
       "  </thead>\n",
       "  <tbody>\n",
       "    <tr>\n",
       "      <th>0</th>\n",
       "      <td>golden_retriever</td>\n",
       "      <td>119</td>\n",
       "      <td>270696</td>\n",
       "      <td>2274</td>\n",
       "    </tr>\n",
       "    <tr>\n",
       "      <th>1</th>\n",
       "      <td>labrador_retriever</td>\n",
       "      <td>86</td>\n",
       "      <td>185610</td>\n",
       "      <td>2158</td>\n",
       "    </tr>\n",
       "    <tr>\n",
       "      <th>2</th>\n",
       "      <td>pembroke</td>\n",
       "      <td>79</td>\n",
       "      <td>185093</td>\n",
       "      <td>2342</td>\n",
       "    </tr>\n",
       "    <tr>\n",
       "      <th>3</th>\n",
       "      <td>chihuahua</td>\n",
       "      <td>72</td>\n",
       "      <td>111665</td>\n",
       "      <td>1550</td>\n",
       "    </tr>\n",
       "    <tr>\n",
       "      <th>4</th>\n",
       "      <td>pug</td>\n",
       "      <td>52</td>\n",
       "      <td>77967</td>\n",
       "      <td>1499</td>\n",
       "    </tr>\n",
       "  </tbody>\n",
       "</table>\n",
       "</div>"
      ],
      "text/plain": [
       "                breed  frequency  total_retweet  retweet_mean\n",
       "0    golden_retriever        119         270696          2274\n",
       "1  labrador_retriever         86         185610          2158\n",
       "2            pembroke         79         185093          2342\n",
       "3           chihuahua         72         111665          1550\n",
       "4                 pug         52          77967          1499"
      ]
     },
     "execution_count": 196,
     "metadata": {},
     "output_type": "execute_result"
    }
   ],
   "source": [
    "# create mean column\n",
    "f['retweet_mean']=f['total_retweet']//f['frequency']\n",
    "f.head()"
   ]
  },
  {
   "cell_type": "code",
   "execution_count": 197,
   "metadata": {
    "nbpresent": {
     "id": "73790d33-d6ca-4c4c-816d-7484d56f2d45"
    }
   },
   "outputs": [
    {
     "data": {
      "image/png": "[encoded data removed]",
      "text/plain": [
       "<matplotlib.figure.Figure at 0x1a111ce320>"
      ]
     },
     "metadata": {},
     "output_type": "display_data"
    }
   ],
   "source": [
    "# plot\n",
    "sns.set(rc={'figure.figsize':(17,10)})\n",
    "\n",
    "sns.set_style(\"whitegrid\")\n",
    "g = sns.barplot(x=\"breed\", y=\"retweet_mean\", data=f)\n",
    "g.set_ylabel('Retweet mean')\n",
    "\n",
    "plt.title('Dog Breeds and Retweets')\n",
    "plt.xlabel('Breeds')\n",
    "# save\n",
    "fig =g.get_figure()\n",
    "fig.savefig('data/breeds_and_retweets.png')"
   ]
  },
  {
   "cell_type": "markdown",
   "metadata": {},
   "source": [
    "##### Stages and retweets"
   ]
  },
  {
   "cell_type": "code",
   "execution_count": 198,
   "metadata": {
    "nbpresent": {
     "id": "d93a0f3f-349f-4fc0-bbe9-6235a75065c5"
    }
   },
   "outputs": [
    {
     "name": "stdout",
     "output_type": "stream",
     "text": [
      "number of dog breeds: 5\n"
     ]
    }
   ],
   "source": [
    "# copy dataframe\n",
    "df_stage=df.copy()\n",
    "\n",
    "# number of stage\n",
    "print('number of dog breeds:', df_stage['stage'].nunique())\n",
    "\n"
   ]
  },
  {
   "cell_type": "code",
   "execution_count": 199,
   "metadata": {
    "nbpresent": {
     "id": "bbf06613-4299-4790-b3de-afd91562be55"
    }
   },
   "outputs": [
    {
     "name": "stdout",
     "output_type": "stream",
     "text": [
      "              stage  frequency\n",
      "0            pupper        190\n",
      "1             doggo         55\n",
      "2             puppo         17\n",
      "3           floofer          7\n",
      "4  doggo and pupper          3\n"
     ]
    }
   ],
   "source": [
    "# frequency of breed\n",
    "df['stage'].value_counts()\n",
    "frequency = df['stage'].value_counts().to_dict()\n",
    "f= pd.DataFrame(list(frequency.items()), columns=['stage', 'frequency'])\n",
    "print(f)"
   ]
  },
  {
   "cell_type": "code",
   "execution_count": 200,
   "metadata": {
    "nbpresent": {
     "id": "7c2f5848-e16e-44ea-a5de-2b72352c01b0"
    }
   },
   "outputs": [
    {
     "data": {
      "text/html": [
       "<div>\n",
       "<style>\n",
       "    .dataframe thead tr:only-child th {\n",
       "        text-align: right;\n",
       "    }\n",
       "\n",
       "    .dataframe thead th {\n",
       "        text-align: left;\n",
       "    }\n",
       "\n",
       "    .dataframe tbody tr th {\n",
       "        vertical-align: top;\n",
       "    }\n",
       "</style>\n",
       "<table border=\"1\" class=\"dataframe\">\n",
       "  <thead>\n",
       "    <tr style=\"text-align: right;\">\n",
       "      <th></th>\n",
       "      <th>stage</th>\n",
       "      <th>frequency</th>\n",
       "      <th>total_retweet</th>\n",
       "    </tr>\n",
       "  </thead>\n",
       "  <tbody>\n",
       "    <tr>\n",
       "      <th>0</th>\n",
       "      <td>pupper</td>\n",
       "      <td>190</td>\n",
       "      <td>311562</td>\n",
       "    </tr>\n",
       "    <tr>\n",
       "      <th>1</th>\n",
       "      <td>doggo</td>\n",
       "      <td>55</td>\n",
       "      <td>168053</td>\n",
       "    </tr>\n",
       "    <tr>\n",
       "      <th>2</th>\n",
       "      <td>puppo</td>\n",
       "      <td>17</td>\n",
       "      <td>45286</td>\n",
       "    </tr>\n",
       "    <tr>\n",
       "      <th>3</th>\n",
       "      <td>floofer</td>\n",
       "      <td>7</td>\n",
       "      <td>19300</td>\n",
       "    </tr>\n",
       "    <tr>\n",
       "      <th>4</th>\n",
       "      <td>doggo and pupper</td>\n",
       "      <td>3</td>\n",
       "      <td>8031</td>\n",
       "    </tr>\n",
       "  </tbody>\n",
       "</table>\n",
       "</div>"
      ],
      "text/plain": [
       "              stage  frequency  total_retweet\n",
       "0            pupper        190         311562\n",
       "1             doggo         55         168053\n",
       "2             puppo         17          45286\n",
       "3           floofer          7          19300\n",
       "4  doggo and pupper          3           8031"
      ]
     },
     "execution_count": 200,
     "metadata": {},
     "output_type": "execute_result"
    }
   ],
   "source": [
    "# create retweet column\n",
    "total_retweet =[]\n",
    "for i in f['stage']:\n",
    "    t_r = df[df['stage'] == i]['retweet_count'].sum()\n",
    "    total_retweet.append(t_r)\n",
    "\n",
    "f['total_retweet']=total_retweet\n",
    "f.head()"
   ]
  },
  {
   "cell_type": "code",
   "execution_count": 201,
   "metadata": {
    "nbpresent": {
     "id": "b97c268f-4182-45ac-bb58-35d2eab076cc"
    }
   },
   "outputs": [
    {
     "data": {
      "text/html": [
       "<div>\n",
       "<style>\n",
       "    .dataframe thead tr:only-child th {\n",
       "        text-align: right;\n",
       "    }\n",
       "\n",
       "    .dataframe thead th {\n",
       "        text-align: left;\n",
       "    }\n",
       "\n",
       "    .dataframe tbody tr th {\n",
       "        vertical-align: top;\n",
       "    }\n",
       "</style>\n",
       "<table border=\"1\" class=\"dataframe\">\n",
       "  <thead>\n",
       "    <tr style=\"text-align: right;\">\n",
       "      <th></th>\n",
       "      <th>stage</th>\n",
       "      <th>frequency</th>\n",
       "      <th>total_retweet</th>\n",
       "      <th>retweet_mean</th>\n",
       "    </tr>\n",
       "  </thead>\n",
       "  <tbody>\n",
       "    <tr>\n",
       "      <th>0</th>\n",
       "      <td>pupper</td>\n",
       "      <td>190</td>\n",
       "      <td>311562</td>\n",
       "      <td>1639</td>\n",
       "    </tr>\n",
       "    <tr>\n",
       "      <th>1</th>\n",
       "      <td>doggo</td>\n",
       "      <td>55</td>\n",
       "      <td>168053</td>\n",
       "      <td>3055</td>\n",
       "    </tr>\n",
       "    <tr>\n",
       "      <th>2</th>\n",
       "      <td>puppo</td>\n",
       "      <td>17</td>\n",
       "      <td>45286</td>\n",
       "      <td>2663</td>\n",
       "    </tr>\n",
       "    <tr>\n",
       "      <th>3</th>\n",
       "      <td>floofer</td>\n",
       "      <td>7</td>\n",
       "      <td>19300</td>\n",
       "      <td>2757</td>\n",
       "    </tr>\n",
       "    <tr>\n",
       "      <th>4</th>\n",
       "      <td>doggo and pupper</td>\n",
       "      <td>3</td>\n",
       "      <td>8031</td>\n",
       "      <td>2677</td>\n",
       "    </tr>\n",
       "  </tbody>\n",
       "</table>\n",
       "</div>"
      ],
      "text/plain": [
       "              stage  frequency  total_retweet  retweet_mean\n",
       "0            pupper        190         311562          1639\n",
       "1             doggo         55         168053          3055\n",
       "2             puppo         17          45286          2663\n",
       "3           floofer          7          19300          2757\n",
       "4  doggo and pupper          3           8031          2677"
      ]
     },
     "execution_count": 201,
     "metadata": {},
     "output_type": "execute_result"
    }
   ],
   "source": [
    "# mean column\n",
    "f['retweet_mean']=f['total_retweet']//f['frequency']\n",
    "f.head()"
   ]
  },
  {
   "cell_type": "code",
   "execution_count": 202,
   "metadata": {
    "nbpresent": {
     "id": "8c65d77c-40f9-4abd-aed6-9cfbf35c3d51"
    },
    "scrolled": true
   },
   "outputs": [
    {
     "data": {
      "image/png": "[encoded data removed]",
      "text/plain": [
       "<matplotlib.figure.Figure at 0x1a12c3b438>"
      ]
     },
     "metadata": {},
     "output_type": "display_data"
    }
   ],
   "source": [
    "# plot\n",
    "sns.set_style(\"whitegrid\")\n",
    "g = sns.barplot(x=\"stage\", y=\"retweet_mean\", data=f)\n",
    "g.set_ylabel('Retweet mean')\n",
    "\n",
    "plt.title('Dog stages and Retweets')\n",
    "plt.xlabel('Stage')\n",
    "\n",
    "# save\n",
    "fig =g.get_figure()\n",
    "fig.savefig('data/stages_and_retweets.png')"
   ]
  },
  {
   "cell_type": "markdown",
   "metadata": {},
   "source": [
    "##### Rating and retweets"
   ]
  },
  {
   "cell_type": "code",
   "execution_count": 203,
   "metadata": {
    "collapsed": true,
    "nbpresent": {
     "id": "b1a2df38-748b-432b-bfd1-199da1a46791"
    }
   },
   "outputs": [],
   "source": [
    "# copy df\n",
    "df_rating = df.copy()"
   ]
  },
  {
   "cell_type": "code",
   "execution_count": 204,
   "metadata": {
    "collapsed": true,
    "nbpresent": {
     "id": "2e8511de-1325-469e-ac11-7a9aa9c32914"
    }
   },
   "outputs": [],
   "source": [
    "# column rating proportion\n",
    "df_rating['rating']=df_rating['rating_numerator']/df_rating['rating_denominator']"
   ]
  },
  {
   "cell_type": "code",
   "execution_count": 205,
   "metadata": {
    "nbpresent": {
     "id": "9c5144e6-60cd-4e14-b8ee-b3af11ec366e"
    }
   },
   "outputs": [
    {
     "data": {
      "text/html": [
       "<div>\n",
       "<style>\n",
       "    .dataframe thead tr:only-child th {\n",
       "        text-align: right;\n",
       "    }\n",
       "\n",
       "    .dataframe thead th {\n",
       "        text-align: left;\n",
       "    }\n",
       "\n",
       "    .dataframe tbody tr th {\n",
       "        vertical-align: top;\n",
       "    }\n",
       "</style>\n",
       "<table border=\"1\" class=\"dataframe\">\n",
       "  <thead>\n",
       "    <tr style=\"text-align: right;\">\n",
       "      <th></th>\n",
       "      <th>rating</th>\n",
       "      <th>frequency</th>\n",
       "    </tr>\n",
       "  </thead>\n",
       "  <tbody>\n",
       "    <tr>\n",
       "      <th>0</th>\n",
       "      <td>1.2</td>\n",
       "      <td>415</td>\n",
       "    </tr>\n",
       "    <tr>\n",
       "      <th>1</th>\n",
       "      <td>1.0</td>\n",
       "      <td>409</td>\n",
       "    </tr>\n",
       "    <tr>\n",
       "      <th>2</th>\n",
       "      <td>1.1</td>\n",
       "      <td>381</td>\n",
       "    </tr>\n",
       "    <tr>\n",
       "      <th>3</th>\n",
       "      <td>1.3</td>\n",
       "      <td>184</td>\n",
       "    </tr>\n",
       "    <tr>\n",
       "      <th>4</th>\n",
       "      <td>0.9</td>\n",
       "      <td>151</td>\n",
       "    </tr>\n",
       "  </tbody>\n",
       "</table>\n",
       "</div>"
      ],
      "text/plain": [
       "   rating  frequency\n",
       "0     1.2        415\n",
       "1     1.0        409\n",
       "2     1.1        381\n",
       "3     1.3        184\n",
       "4     0.9        151"
      ]
     },
     "execution_count": 205,
     "metadata": {},
     "output_type": "execute_result"
    }
   ],
   "source": [
    "# create df with rating and frequency\n",
    "df_rating['rating'].value_counts()\n",
    "frequency = df_rating['rating'].value_counts().to_dict()\n",
    "f= pd.DataFrame(list(frequency.items()), columns=['rating', 'frequency'])\n",
    "f.head()"
   ]
  },
  {
   "cell_type": "code",
   "execution_count": 206,
   "metadata": {
    "nbpresent": {
     "id": "38510319-8c31-485f-ae3f-f8bea15732c5"
    }
   },
   "outputs": [
    {
     "data": {
      "text/html": [
       "<div>\n",
       "<style>\n",
       "    .dataframe thead tr:only-child th {\n",
       "        text-align: right;\n",
       "    }\n",
       "\n",
       "    .dataframe thead th {\n",
       "        text-align: left;\n",
       "    }\n",
       "\n",
       "    .dataframe tbody tr th {\n",
       "        vertical-align: top;\n",
       "    }\n",
       "</style>\n",
       "<table border=\"1\" class=\"dataframe\">\n",
       "  <thead>\n",
       "    <tr style=\"text-align: right;\">\n",
       "      <th></th>\n",
       "      <th>rating</th>\n",
       "      <th>frequency</th>\n",
       "      <th>total_retweet</th>\n",
       "      <th>retweet_mean</th>\n",
       "    </tr>\n",
       "  </thead>\n",
       "  <tbody>\n",
       "    <tr>\n",
       "      <th>0</th>\n",
       "      <td>1.2</td>\n",
       "      <td>415</td>\n",
       "      <td>986770</td>\n",
       "      <td>2377</td>\n",
       "    </tr>\n",
       "    <tr>\n",
       "      <th>1</th>\n",
       "      <td>1.0</td>\n",
       "      <td>409</td>\n",
       "      <td>472879</td>\n",
       "      <td>1156</td>\n",
       "    </tr>\n",
       "    <tr>\n",
       "      <th>2</th>\n",
       "      <td>1.1</td>\n",
       "      <td>381</td>\n",
       "      <td>668064</td>\n",
       "      <td>1753</td>\n",
       "    </tr>\n",
       "    <tr>\n",
       "      <th>3</th>\n",
       "      <td>1.3</td>\n",
       "      <td>184</td>\n",
       "      <td>632188</td>\n",
       "      <td>3435</td>\n",
       "    </tr>\n",
       "    <tr>\n",
       "      <th>4</th>\n",
       "      <td>0.9</td>\n",
       "      <td>151</td>\n",
       "      <td>118582</td>\n",
       "      <td>785</td>\n",
       "    </tr>\n",
       "  </tbody>\n",
       "</table>\n",
       "</div>"
      ],
      "text/plain": [
       "   rating  frequency  total_retweet  retweet_mean\n",
       "0     1.2        415         986770          2377\n",
       "1     1.0        409         472879          1156\n",
       "2     1.1        381         668064          1753\n",
       "3     1.3        184         632188          3435\n",
       "4     0.9        151         118582           785"
      ]
     },
     "execution_count": 206,
     "metadata": {},
     "output_type": "execute_result"
    }
   ],
   "source": [
    "# retweet column\n",
    "total_retweet =[]\n",
    "for i in f['rating']:\n",
    "    t_r = df_rating[df_rating['rating'] == i]['retweet_count'].sum()\n",
    "    total_retweet.append(t_r)\n",
    "\n",
    "f['total_retweet']=total_retweet\n",
    "f.head()\n",
    "\n",
    "# retweet mean\n",
    "f['retweet_mean']=f['total_retweet']//f['frequency']\n",
    "f.head()"
   ]
  },
  {
   "cell_type": "code",
   "execution_count": 207,
   "metadata": {
    "nbpresent": {
     "id": "9de51e3b-c881-480c-bef5-7d08c96c1881"
    }
   },
   "outputs": [
    {
     "data": {
      "image/png": "[encoded data removed]",
      "text/plain": [
       "<matplotlib.figure.Figure at 0x1a123a7b00>"
      ]
     },
     "metadata": {},
     "output_type": "display_data"
    }
   ],
   "source": [
    "# plot\n",
    "sns.set(rc={'figure.figsize':(17,10)})\n",
    "\n",
    "sns.set_style(\"whitegrid\")\n",
    "g = sns.barplot(x=\"rating\", y=\"retweet_mean\", data=f)\n",
    "g.set_ylabel('Retweets mean')\n",
    "\n",
    "plt.title('Rating ratio and retweets')\n",
    "plt.xlabel('Rating ratio')\n",
    "# save\n",
    "fig =g.get_figure()\n",
    "fig.savefig('data/rating_and_retweets.png')"
   ]
  },
  {
   "cell_type": "code",
   "execution_count": null,
   "metadata": {
    "collapsed": true
   },
   "outputs": [],
   "source": []
  }
 ],
 "metadata": {
  "kernelspec": {
   "display_name": "Python [conda root]",
   "language": "python",
   "name": "conda-root-py"
  },
  "language_info": {
   "codemirror_mode": {
    "name": "ipython",
    "version": 3
   },
   "file_extension": ".py",
   "mimetype": "text/x-python",
   "name": "python",
   "nbconvert_exporter": "python",
   "pygments_lexer": "ipython3",
   "version": "3.6.2"
  }
 },
 "nbformat": 4,
 "nbformat_minor": 2
}
